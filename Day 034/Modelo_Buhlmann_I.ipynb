{
  "nbformat": 4,
  "nbformat_minor": 0,
  "metadata": {
    "colab": {
      "provenance": []
    },
    "kernelspec": {
      "name": "python3",
      "display_name": "Python 3"
    },
    "language_info": {
      "name": "python"
    }
  },
  "cells": [
    {
      "cell_type": "markdown",
      "source": [
        "# Modelo de Bühlmann"
      ],
      "metadata": {
        "id": "tZB4fJH_YAIp"
      }
    },
    {
      "cell_type": "markdown",
      "source": [
        "## Objetivo"
      ],
      "metadata": {
        "id": "Utm_oSsySoXb"
      }
    },
    {
      "cell_type": "markdown",
      "source": [
        "- Comprender la lógica y la filosofía del Modelo de Bühlmann.\n",
        "\n",
        "- Calcular las primas de Bühlmann en escenarios prácticos.\n",
        "\n",
        "- Interpretar los resultados y entender las implicaciones para la tarificación.\n",
        "\n",
        "- Identificar las ventajas y limitaciones del modelo."
      ],
      "metadata": {
        "id": "sSoDjdZ4TgvR"
      }
    },
    {
      "cell_type": "markdown",
      "source": [
        "## ¿Qué es una Prima de Seguro?"
      ],
      "metadata": {
        "id": "ZVqYouI1TnY5"
      }
    },
    {
      "cell_type": "markdown",
      "source": [
        "- La prima es el precio que el asegurado paga a la aseguradora a cambio de la cobertura de un riesgo.\n",
        "\n",
        "- Debe ser suficiente para cubrir los siniestros, los gastos de operación y generar un margen de ganancia razonable."
      ],
      "metadata": {
        "id": "1x6REDBDTxTV"
      }
    },
    {
      "cell_type": "markdown",
      "source": [
        "## Heterogeneidad"
      ],
      "metadata": {
        "id": "ZWmyNOUSTx3c"
      }
    },
    {
      "cell_type": "markdown",
      "source": [
        "- No todos los asegurados son iguales. Algunos son más \"riesgosos\" que otros.\n",
        "\n",
        "- Si cobramos la misma prima a todos, los de bajo riesgo subsidian a los de alto riesgo.\n",
        "\n",
        "- Esto puede llevar a la selección adversa: los asegurados de bajo riesgo buscan otras opciones, dejando solo a los de alto riesgo en nuestra cartera.\n"
      ],
      "metadata": {
        "id": "hi6bsKLrT_XN"
      }
    },
    {
      "cell_type": "markdown",
      "source": [
        "##  Modelos de Tarificación Refinados\n"
      ],
      "metadata": {
        "id": "KN18vJdnUChN"
      }
    },
    {
      "cell_type": "markdown",
      "source": [
        "- Buscamos primas que reflejen lo mejor posible el riesgo individual, pero sin tener información perfecta.\n",
        "\n",
        "- Aquí es donde entra el Modelo de Bühlmann..\n"
      ],
      "metadata": {
        "id": "kRK8FpcKUIyn"
      }
    },
    {
      "cell_type": "markdown",
      "source": [
        "## Fórmulas del Modelo de Bühlmann\n"
      ],
      "metadata": {
        "id": "BbDcw0OoURIx"
      }
    },
    {
      "cell_type": "markdown",
      "source": [
        "\n",
        "- **Esperanza Matemática (Media)**\n",
        "\n",
        "La esperanza matemática de la pérdida $X$ condicionada al parámetro de riesgo $Θ =θ$ es:\n",
        "\n",
        "$$E[X∣Θ=θ]=μ(θ)$$\n",
        "\n",
        "La esperanza a priori (o esperanza incondicional) de $X$ es:\n",
        "\n",
        "$$E[X]=E[E[X∣Θ]]$$\n",
        "\n",
        "$Θ$ es la variable aleatoria que captura esta heterogeneidad de riesgo a nivel de la población. Describe cómo se distribuyen los diferentes niveles de riesgo en la población total de asegurados. Es el  \"pool\" de riesgos.\n",
        "\n",
        "\n",
        "$θ$ (theta minúscula) representa una realización específica de la variable aleatoria $Θ$.  Valor particular (la \"instancia\") de riesgo para un asegurado individual o un grupo homogéneo de asegurados. Es el parámetro subyacente que define el comportamiento de siniestros de ese individuo o grupo.\n",
        "\n",
        "\n",
        "\n",
        "- **Varianza**\n",
        "\n",
        "La varianza de la pérdida $X$ condicionada al parámetro de riesgo $Θ=θ$ es:\n",
        "\n",
        "$$Var[X∣Θ=θ]=σ^2(θ)$$\n",
        "\n",
        "- **Covarianza**\n",
        "\n",
        "La covarianza entre dos variables aleatorias $X_i$ y $X_j$ es:\n",
        "\n",
        "$$Cov[X_i,X_j]=E[X_iX_j]−E[X_i]E[X_j]$$\n",
        "\n",
        "En el modelo de Bühlmann, si las observaciones son condicionalmente independientes dado $Θ$, entonces $Cov[X_i,X_j ∣Θ]=0$ para $i \\not= j$.\n",
        "\n",
        "\n",
        "- **Ley de las Esperanzas Iteradas (o Ley de la Esperanza Total)**\n",
        "\n",
        "Para cualquier variable aleatoria $X$ y una variable aleatoria $Θ$, la esperanza de $X$ se puede descomponer de la siguiente manera:\n",
        "\n",
        "$$E[X]=EΘ [E[X∣Θ]]$$\n",
        "\n",
        "- **Ley de las Varianzas Totales (o Fórmula de Descomposición de la Varianza)**\n",
        "\n",
        "Para cualquier variable aleatoria $X$ y una variable aleatoria $Θ$, la varianza de $X$ se  descompone en:\n",
        "\n",
        "$$Var[X]=EΘ [Var[X∣Θ]] + VarΘ[E[X∣Θ]]$$"
      ],
      "metadata": {
        "id": "4hvb1dW2UWTu"
      }
    },
    {
      "cell_type": "markdown",
      "source": [
        "## Prima de Riesgo (o Prima Pura)\n"
      ],
      "metadata": {
        "id": "rVbH66XUZRrB"
      }
    },
    {
      "cell_type": "markdown",
      "source": [
        "En el contexto actuarial, la esperanza matemática de los siniestros futuros representa la prima de riesgo \"pura\" o \"justa\" que debería cobrarse si se conociera el riesgo intrínseco de cada individuo.\n",
        "\n",
        "Para un individuo $j$ con un parámetro de riesgo $θ_j$, su prima de riesgo (o esperanza de los siniestros) es:\n",
        "\n",
        "$$E[S_j∣θ _j]$$\n",
        "\n",
        "donde $Sj$  denota los siniestros (o la severidad de los siniestros) del individuo $j$.\n",
        "\n",
        "**Problema:** En la práctica, no conocemos el valor exacto de $θ_j$. Solo disponemos de observaciones de los siniestros pasados de cada individuo para estimar este valor.\n",
        "\n"
      ],
      "metadata": {
        "id": "HVkF9djWZUED"
      }
    },
    {
      "cell_type": "markdown",
      "source": [
        "##Prima Credibilidad Perfecta"
      ],
      "metadata": {
        "id": "c6NMPY0paUco"
      }
    },
    {
      "cell_type": "markdown",
      "source": [
        "- Es la mejor estimación de la prima de riesgo de un individuo, dado toda la información disponible (siniestros pasados, características del riesgo, etc.).\n",
        "\n",
        "- Formalmente, es\n",
        "$$E[Siniestros Futuros∣Siniestros Pasados]$$.\n",
        "\n",
        "El Modelo de Bühlmann es un estimador lineal de esta prima bayesiana"
      ],
      "metadata": {
        "id": "UiqxXhYcaXW-"
      }
    },
    {
      "cell_type": "markdown",
      "source": [
        "## Conceptos clave"
      ],
      "metadata": {
        "id": "xdgG7cWfa3eo"
      }
    },
    {
      "cell_type": "markdown",
      "source": [
        "- **Credibilidad:** El grado en que confiamos en la experiencia pasada de un asegurado para predecir su experiencia futura.\n",
        "\n",
        "    Si tenemos mucha experiencia (muchos años de datos, muchos siniestros), confiamos más.\n",
        "\n",
        "    Si tenemos poca experiencia, nos apoyamos más en la experiencia del grupo al que pertenece.\n",
        "\n",
        "- **Homogeneidad Relativa:** Asumimos que los asegurados dentro de un grupo son \"similares\", pero no idénticos. Hay una variabilidad inherente en el riesgo individual.\n"
      ],
      "metadata": {
        "id": "7bJhnxjJa6uY"
      }
    },
    {
      "cell_type": "markdown",
      "source": [
        "## Hipótesis Fundamentales"
      ],
      "metadata": {
        "id": "DT_qduVMldBo"
      }
    },
    {
      "cell_type": "markdown",
      "source": [
        "**Hipótesis 1: Siniestros Condicionalmente Independientes e Idénticamente Distribuido son i.i.d.**\n",
        "\n",
        "- Para un asegurado $j$ con parámetro de riesgo $θ_j$ , los siniestros en diferentes períodos $S_{j1} ,S_{j2} ,…,S_{jn}$ son i.i.d.\n",
        "\n",
        "    - [independientes e idénticamente distribuidos] i.i.d\n",
        "\n",
        "- $E[S_{jt} ∣θ_j ]=μ(θj )$ (media de siniestros, depende del riesgo $θ_j$ )\n",
        "\n",
        "- $Var[S_{jt} ∣θ_j ]=σ^2(θ_j )$ (varianza de siniestros, depende del riesgo  $θ_j$ )\n",
        "\n"
      ],
      "metadata": {
        "id": "vxP99xkvbRqT"
      }
    },
    {
      "cell_type": "markdown",
      "source": [
        "**Hipótesis 2: El Parámetro de Riesgo $θ_j$  es una Variable Aleatoria**\n",
        "\n",
        " - $θ_j$  no es una constante conocida, sino que proviene de una distribución subyacente $U(θ)$.\n",
        "\n",
        "- $E[μ(θ_j )]=μ$ (media de las medias de los siniestros en la población)\n",
        "\n",
        "- $Var[μ(θ_j )]=τ2$ (varianza de las medias de los siniestros en la población, mide la heterogeneidad entre los asegurados)\n"
      ],
      "metadata": {
        "id": "9RY_V5gfbaEE"
      }
    },
    {
      "cell_type": "markdown",
      "source": [
        "**Hipótesis 3: La Varianza de los Siniestros Condicionales es Constante (o Proporcional a la Media)**\n",
        "\n",
        "- $Var[S_{jt} ∣θ_j ]=σ^2$ (asumimos que la varianza no depende de $θ_j$ , es decir, $σ^2(θj )=σ^2)$. Esta es la suposición del modelo de Bühlmann clásico.\n",
        "\n",
        "- En modelos más avanzados (Bühlmann-Straub), $σ^2(θ_j )$ puede ser proporcional a $μ(θ_j)$. Por ahora, nos quedamos con $σ^2$.\n"
      ],
      "metadata": {
        "id": "LyZgstepbbP3"
      }
    },
    {
      "cell_type": "markdown",
      "source": [
        "## Estimador de Bühlmann"
      ],
      "metadata": {
        "id": "FTyFC2-Ckhfk"
      }
    },
    {
      "cell_type": "markdown",
      "source": [
        "\n",
        "\n",
        "- El objetivo es estimar $E[S_{j,n+1} ∣S_{j1} ,…,S_{jn} ]$, la prima bayesiana. Bühlmann propone un estimador lineal de la forma:\n",
        "\n",
        "\t$$E\\hat{} [S_j,n+1 ∣S_{j1} ,…,S_{jn} ]=Z⋅S\\hat{}_j +(1−Z)⋅μ$$\n",
        "\n",
        "Donde:\n",
        "\n",
        "- $S\\hat{}_j =\\frac{1}{n} ∑^n _{t=1} S_{jt}$  es la media observada de siniestros para el asegurado $j$ en $n$ períodos.\n",
        "\n",
        "- $μ$ es la media de siniestros del grupo al que pertenece el asegurado (la prima del colectivo).\n",
        "\n",
        "- $Z$ es el Factor de Credibilidad de Bühlmann, $0≤Z≤1.$\n"
      ],
      "metadata": {
        "id": "KjyYKpXTe-3v"
      }
    },
    {
      "cell_type": "markdown",
      "source": [
        "## Factor de Credibilidad de Bühlmann (Z)\n"
      ],
      "metadata": {
        "id": "I3eRbrHYh3tW"
      }
    },
    {
      "cell_type": "markdown",
      "source": [
        "El factor de credibilidad $Z$ en el Modelo de Bühlmann se obtiene minimizando el error cuadrático medio (ECM) del estimador de la prima bayesiana. El estimador $P_j$ de la prima bayesiana es la esperanza de los siniestros futuros del asegurado $j$, condicionada a su experiencia de siniestros pasada:\n",
        "\n",
        "$$P_j =E[S{j,n+1} ∣S_{j1},…,S_{jn}]$$\n",
        "\n",
        "Se puede demostrar que el valor óptimo de $Z$ que minimiza este error cuadrático medio es:\n",
        "\n",
        "$$Z= \\frac{n}{n+k}$$\n",
        "\n",
        "Donde $n$ es el número de períodos de observación (o el volumen de experiencia) del individuo, y $k$ es el Parámetro de Homogeneidad, definido como:\n",
        "\n",
        "$$k=\\frac{E[Var[S_{jt}∣θ]] }{Var[E[S_{jt}∣θ]]} =\\frac{E[σ2(θ)]}{Var[μ(θ)]}$$\n",
        "\n",
        "\n",
        "\n",
        "En el modelo clásico de Bühlmann, donde se asume $σ^2(θ)=σ^2$ (varianza constante e independiente de $θ$), la fórmula de $k$ se simplifica a:\n",
        "\n",
        "$$k= \\frac{σ^2}{τ^2}$$\n",
        "\n",
        "\n",
        "donde $σ^2=E[Var[S_{jt} ∣θ]]$ representa la varianza esperada del proceso (varianza intraclase o varianza de los siniestros individuales alrededor de sus medias)\n",
        "\n",
        "y $τ^2=Var[E[S_{jt}∣θ]]$ representa la varianza de las medias hipotéticas (variabilidad entre las medias de los asegurados o varianza interclase).\n",
        "\n"
      ],
      "metadata": {
        "id": "iCVlgH4Skvn4"
      }
    },
    {
      "cell_type": "markdown",
      "source": [
        "## Derivación del Factor de Credibilidad Z\n",
        "\n"
      ],
      "metadata": {
        "id": "_P2rQ5ScnlXT"
      }
    },
    {
      "cell_type": "markdown",
      "source": [
        "Para entender completamente el factor $k$ y su papel en el Modelo de Bühlmann, es crucial descomponerlo en sus dos componentes principales, que surgen de la Ley de las Varianzas Totales.\n",
        "\n",
        "**Esperanza de la Varianza Condicional $(V_e)$**\n",
        "\n",
        "$E[σ ^2(θ)]$: Esta cantidad representa la variabilidad esperada dentro de cada riesgo individual. Se calcula promediando la varianza de los siniestros (dado un $θ$ específico) sobre la distribución de todos los posibles $θ$ en la población.\n",
        "\n",
        "  - También se conoce como la \"Varianza de Siniestros por Clase\" o \"Varianza Intraclase\".\n",
        "  - Lo denotaremos como $V_e$:\n",
        "\n",
        "    $$V _e=E[Var[S _{jt} ∣θ]]=E[σ^2(θ)]$$\n",
        "\n",
        "**Varianza de la Esperanza Condicional $(V_m)$**\n",
        "\n",
        "$Var[μ(θ)]$: Esta cantidad representa la variabilidad entre las medias de los siniestros de los diferentes riesgos individuales. Mide cuánto difieren los \"verdaderos\" niveles de riesgo (las medias hipotéticas) entre los asegurados de la cartera.\n",
        "\n",
        "  - También se conoce como la \"Varianza Entre Clases\" o \"Varianza Interclase\".\n",
        "\n",
        "  - Lo denotaremos como $Vm$:\n",
        "\n",
        "  $$V_m=Var[E[S_{jt}∣θ]]=Var[μ(θ)]$$\n",
        "\n",
        "**Fórmulas Correctas para $k$ y $Z$**\n",
        "\n",
        "Con estas definiciones, las fórmulas para el factor $k$ y el factor de credibilidad $Z$ son las siguientes:\n",
        "\n",
        "**Factor $k$**\n",
        "\n",
        "El factor $k$ se define como la razón entre la varianza intraclase $(V_e)$ y la varianza interclase $(V_m)$:\n",
        "\n",
        "$$k= \\frac{V_m}{V_e}$$\n",
        "\n",
        "**Factor de Credibilidad $Z$**\n",
        "\n",
        "El factor de credibilidad $Z$ se calcula utilizando el número de observaciones individuales $(n)$ y el factor $k$:\n",
        "\n",
        "$$Z= \\frac{n}{n+k}$$\n",
        "\n",
        "\n",
        "Sustituyendo la definición de $k$ en la fórmula de $Z$, obtenemos la expresión completa:\n",
        "\n",
        "$$Z = \\frac{n}{n + \\frac{V_e}{V_m}}$$\n",
        "\n",
        "Multiplicando el numerador y el denominador por $V_m$ para simplificar, obtenemos:\n",
        "\n",
        "$$Z= \\frac{n⋅V_m}{n⋅V_m +V_e}$$\n",
        "\n",
        "Estas fórmulas son correctas y fundamentales para la aplicación del Modelo de Bühlmann.\n",
        "\n"
      ],
      "metadata": {
        "id": "M1BGCf_zu0sR"
      }
    },
    {
      "cell_type": "markdown",
      "source": [
        "## Interpretación de $Z$"
      ],
      "metadata": {
        "id": "uXClLp7oyosh"
      }
    },
    {
      "cell_type": "markdown",
      "source": [
        "\n",
        "- Si $n$ es grande, $Z→1$. Mucha experiencia individual ⟹ confiamos plenamente en la experiencia individual.\n",
        "\n",
        "- Si $n$ es pequeño, $Z→0$. Poca experiencia individual ⟹ confiamos más en la experiencia del grupo.\n",
        "\n",
        "- Si $V_m$  es grande (mucha heterogeneidad entre los asegurados), $Z$ es mayor. Si los asegurados son muy diferentes, la experiencia individual es más importante.\n",
        "\n",
        "- Si $V_e$  es grande (mucha variabilidad en los siniestros dentro de cada asegurado), $Z$ es menor. Si los siniestros son muy volátiles, la experiencia individual es menos fiable.\n"
      ],
      "metadata": {
        "id": "Zdmnkm9VysXy"
      }
    },
    {
      "cell_type": "markdown",
      "source": [
        "## Estimación de $V_e$ y $V_m$ en la Práctica"
      ],
      "metadata": {
        "id": "mx4P9KKGy9dJ"
      }
    },
    {
      "cell_type": "markdown",
      "source": [
        "En la práctica actuarial, los valores de $V_e$​\t (Varianza Intraclase) y $V_m$ (Varianza Interclase) son desconocidos y deben ser estimados a partir de los datos históricos de siniestros.\n",
        "\n",
        "**Estimador de $V_e$ (Varianza de Siniestros por Clase o Varianza Intraclase)**\n",
        "\n",
        "El estimador de $V_e$, denotado como $V\\hat{}e$ , se calcula como el promedio ponderado de las varianzas muestrales de los siniestros para cada asegurado (o grupo homogéneo). Es una medida de la variabilidad \"dentro\" de cada individuo.\n",
        "\n",
        "$$V\\hat{}e = \\frac{∑_{j=1}^M ∑_{t=1}^{n_j}(S_{jt} - \\overline{S}_j)^2}{∑_{j=1}^M(n_j−1)}$$\n",
        "\n",
        "Donde:\n",
        "\n",
        "$M$: Es el número total de asegurados (o grupos homogéneos) en la cartera.\n",
        "\n",
        "$n_j$: Es el número de períodos de observación disponibles para el asegurado $j$.\n",
        "\n",
        "$S_{jt}$ : Son los siniestros observados para el asegurado $j$ en el período $t$.\n",
        "\n",
        "$\\overline{S}_j = \\frac{1}{n_j}∑_{t=1}^{n_j} S{jt}$: Es la media de siniestros observados para el asegurado $j$.\n",
        "\n",
        "\n",
        "\n",
        "**Estimador de $V_m$ (Varianza Entre Clases o Varianza Interclase)**\n",
        "\n",
        "La estimación de $V_m(V\\hat{}_m)$ es más involucrada que la de $V_e$ , ya que requiere considerar la varianza total de los siniestros y la relación entre las varianzas intraclase e interclase.\n",
        "\n",
        "Sabemos por la Ley de las Varianzas Totales que la varianza total de los siniestros $(Var[S])$ se descompone como $Var[S]=E[V_e]+V_m$\n",
        "\n",
        "Estimador General de $V_m$\n",
        "\n",
        "Un estimador comúnmente utilizado para $V_m$ es:\n",
        "\n",
        "$$V\\hat{}_m=\\frac{1}{M−1} \\sum_{j=1}^{M}n_j (\\overline{S}_j - \\overline{S})^2 - \\frac{1}{M}\\sum_{j=1}^{M}\\frac{V\\hat{}_e}{n_j} $$\n",
        "  \n",
        "\n",
        "\n",
        "Donde:\n",
        "\n",
        "$M$: Es el número total de asegurados (o grupos) en la cartera.\n",
        "\n",
        "$n_j$: Es el número de períodos de observación para el asegurado $j$.\n",
        "\n",
        "$\\overline{S}_j$: Es la media de siniestros observados para el asegurado $j$.\n",
        "\n",
        "$\\overline{S} = \\frac{\\sum_{j=1}^{M}n_j\\overline{S}_j}{\\sum_{j=1}^{M}n_j}$: Es la media global de siniestros de toda la cartera, ponderada por el número de observaciones de cada asegurado.\n",
        "\n",
        "$V^\\hat{}_e$: Es el estimador de la varianza intraclase que calculamos previamente.\n",
        "\n",
        "**Caso Simplificado: Cuando $n_j=n$ para todos los grupos**\n",
        "\n",
        "Si el número de períodos de observación $(n_j)$ es el mismo para todos los asegurados, es decir, $n_j=n$ para todo $j$, la fórmula para   $V\\hat{}_m$ se simplifica considerablemente:\n",
        "\n",
        "$$V\\hat{}_m=\\frac{1}{M−1} \\sum_{j=1}^{M}n_j (\\overline{S}_j - \\overline{S})^2 - \\frac{1}{n} V\\hat{}_e  $$\n",
        "\n",
        "**Nota Importante:** En ocasiones, al calcular  $V\\hat{}_m$ con datos reales, el resultado puede ser negativo. Esto ocurre cuando la variabilidad observada entre las medias de los grupos es menor de lo que se esperaría puramente por el \"ruido\" dentro de cada grupo. Cuando esto sucede, se suele truncar el valor de  $V\\hat{}_m$  a 0.\n",
        "\n",
        "Un $V\\hat{}_m=0$ implica que no hay una heterogeneidad significativa detectada entre los riesgos, y por lo tanto, todos los asegurados se consideran idénticos en términos de su riesgo subyacente.\n",
        "\n"
      ],
      "metadata": {
        "id": "5S1TI1B9zwU_"
      }
    },
    {
      "cell_type": "markdown",
      "source": [
        "##Algoritmo de Bühlmann\n"
      ],
      "metadata": {
        "id": "eZlZ1yR93QJ5"
      }
    },
    {
      "cell_type": "markdown",
      "source": [
        "1. **Recolectar datos:** Siniestros observados $S_{jt}$  para cada asegurado $j$ en cada período $t$.\n",
        "\n",
        "2. **Calcular medias individuales:** $\\overline{S}_j$  para cada asegurado.\n",
        "\n",
        "3. **Calcular la media global:** $\\overline{S}$ para toda la cartera.\n",
        "\n",
        "4. **Estimar $V_e$ (Varianza intraclase):** Calcular la varianza dentro de cada asegurado y promediarlas.\n",
        "\n",
        "5. **Estimar $V_m$ (Varianza interclase):** Calcular la varianza entre las medias de los asegurados, ajustando por $V_e$ .\n",
        "\n",
        "6. **Calcular $k=\\frac{V\\hat{}_e}{V\\hat{}_m}$ (Factor de Credibilidad).** (Si $V\\hat{}_m =0$, lo que implica que no hay heterogeneidad significativa), entonces $k$ es infinito y $Z=0$).Esto significa que la prima se basará completamente en la media del colectivo.\n",
        "\n",
        "7. **Calcular el Factor de Credibilidad $Z$** para cada asegurado (si $n_j$  es el número de períodos para el asegurado $j$):\n",
        "$$Z_j =\\frac{n_j}{n_j +k} $$.\n",
        "\n",
        "8. **Calcular la Prima de Bühlmann** para el asegurado $j$:\n",
        "$$P_j =Z_j ⋅\\overline{S}_j +(1 - Z_j )⋅\\overline{S}$$.\n"
      ],
      "metadata": {
        "id": "yxidhMDn85nc"
      }
    },
    {
      "cell_type": "markdown",
      "source": [
        "## Ejemplo"
      ],
      "metadata": {
        "id": "wf71GBQF111w"
      }
    },
    {
      "cell_type": "markdown",
      "source": [
        "Imaginemos una aseguradora de automóviles que tiene 5 conductores a los que ha observado durante 3 años. El número de siniestros por conductor es el siguiente:\n"
      ],
      "metadata": {
        "id": "GA_BIqnD13l0"
      }
    },
    {
      "cell_type": "markdown",
      "source": [
        "![Captura de pantalla 2025-07-05 a la(s) 7.54.00 a.m..png](data:image/png;base64,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)"
      ],
      "metadata": {
        "id": "sqginpwF3XO-"
      }
    },
    {
      "cell_type": "markdown",
      "source": [
        "Crear Conjunto de Datos"
      ],
      "metadata": {
        "id": "ScAE8jAM3hOF"
      }
    },
    {
      "cell_type": "code",
      "source": [
        "import pandas as pd\n",
        "\n",
        "# Create the dataset as a dictionary\n",
        "data = {\n",
        "    'Conductor': ['A', 'B', 'C', 'D', 'E'],\n",
        "    'Año 1': [1, 0, 2, 1, 0],\n",
        "    'Año 2': [2, 1, 2, 0, 0],\n",
        "    'Año 3': [0, 0, 3, 1, 0],\n",
        "    'Total Siniestros': [3, 1, 7, 2, 0]\n",
        "}\n",
        "\n",
        "# Create a Pandas DataFrame from the dictionary\n",
        "df = pd.DataFrame(data)\n",
        "\n",
        "# Print the DataFrame to verify\n",
        "print(df)"
      ],
      "metadata": {
        "colab": {
          "base_uri": "https://localhost:8080/"
        },
        "id": "Hdr6WSNR3mWP",
        "outputId": "eb7c22f5-e334-4c9b-fe22-c70375ae71f5"
      },
      "execution_count": null,
      "outputs": [
        {
          "output_type": "stream",
          "name": "stdout",
          "text": [
            "  Conductor  Año 1  Año 2  Año 3  Total Siniestros\n",
            "0         A      1      2      0                 3\n",
            "1         B      0      1      0                 1\n",
            "2         C      2      2      3                 7\n",
            "3         D      1      0      1                 2\n",
            "4         E      0      0      0                 0\n"
          ]
        }
      ]
    },
    {
      "cell_type": "markdown",
      "source": [
        "Paso 1: Calcular medias individuales $\\overline{S}_j$\n"
      ],
      "metadata": {
        "id": "KQduROBc3a19"
      }
    },
    {
      "cell_type": "code",
      "source": [
        "S_A = (1+2+0)/3\n",
        "S_B = (0+1+0)/3\n",
        "S_C = (2+2+3)/3\n",
        "S_D = (1+0+1)/3\n",
        "S_E = (0+0+0)/3\n",
        "\n",
        "print(\"S_A: \", S_A)\n",
        "print(\"S_B: \", S_B)\n",
        "print(\"S_C: \", S_C)\n",
        "print(\"S_D: \", S_D)\n",
        "print(\"S_E: \", S_E)"
      ],
      "metadata": {
        "colab": {
          "base_uri": "https://localhost:8080/"
        },
        "id": "yKRitaXm2cKm",
        "outputId": "5815d051-2328-4f3e-8528-fe595f770765"
      },
      "execution_count": null,
      "outputs": [
        {
          "output_type": "stream",
          "name": "stdout",
          "text": [
            "S_A:  1.0\n",
            "S_B:  0.3333333333333333\n",
            "S_C:  2.3333333333333335\n",
            "S_D:  0.6666666666666666\n",
            "S_E:  0.0\n"
          ]
        }
      ]
    },
    {
      "cell_type": "markdown",
      "source": [
        "Paso 2: Calcular la media global $\\overline{S}$\n"
      ],
      "metadata": {
        "id": "M8j2d1j-2kMa"
      }
    },
    {
      "cell_type": "code",
      "source": [
        "NUmero_total_de_observaciones = 5*3\n",
        "Suma_total_de_siniestros = 3+1+7+2+0\n",
        "S = Suma_total_de_siniestros /NUmero_total_de_observaciones\n",
        "\n",
        "print(\"Número total de observaciones: \", NUmero_total_de_observaciones)\n",
        "print(\"Suma total de siniestros: \", Suma_total_de_siniestros)\n",
        "print(\"Media global: \", S)"
      ],
      "metadata": {
        "colab": {
          "base_uri": "https://localhost:8080/"
        },
        "id": "sjoN9wGn2kfc",
        "outputId": "3a955a0d-8e8a-420b-80a6-00cb83331415"
      },
      "execution_count": null,
      "outputs": [
        {
          "output_type": "stream",
          "name": "stdout",
          "text": [
            "Número total de observaciones:  15\n",
            "Suma total de siniestros:  13\n",
            "Media global:  0.8666666666666667\n"
          ]
        }
      ]
    },
    {
      "cell_type": "markdown",
      "source": [
        "Paso 3: Estimar $V_e$  (Varianza de Siniestros por Clase)\n"
      ],
      "metadata": {
        "id": "oJgXpQFQ2IPT"
      }
    },
    {
      "cell_type": "code",
      "source": [
        "\n",
        "# Calcular la varianza para cada conductor\n",
        "var_A = ((1 - S_A)**2 + (2 - S_A)**2 + (0 - S_A)**2) / (3 - 1)\n",
        "var_B = ((0 - S_B)**2 + (1 - S_B)**2 + (0 - S_B)**2) / (3 - 1)\n",
        "var_C = ((2 - S_C)**2 + (2 - S_C)**2 + (3 - S_C)**2) / (3 - 1)\n",
        "var_D = ((1 - S_D)**2 + (0 - S_D)**2 + (1 - S_D)**2) / (3 - 1)\n",
        "var_E = ((0 - S_E)**2 + (0 - S_E)**2 + (0 - S_E)**2) / (3 - 1)\n",
        "\n",
        "print(\"Varianza Conductor A: \", var_A)\n",
        "print(\"Varianza Conductor B: \", var_B)\n",
        "print(\"Varianza Conductor C: \", var_C)\n",
        "print(\"Varianza Conductor D: \", var_D)\n",
        "print(\"Varianza Conductor E: \", var_E)\n",
        "\n",
        "# Estimar Ve (Varianza Intraclase) - Media de las varianzas individuales\n",
        "# Donde nj es el mismo numero de observaciones por conductor (nj=3).\n",
        "# Ve_hat = (sum of variances) / M\n",
        "Ve_hat = (var_A + var_B + var_C + var_D + var_E) / 5\n",
        "\n",
        "print(\"Estimador de Ve (Varianza Intraclase): \", Ve_hat)\n"
      ],
      "metadata": {
        "colab": {
          "base_uri": "https://localhost:8080/"
        },
        "id": "wIXHJmck7TmN",
        "outputId": "aec034c8-9a0d-441c-f56b-61a95e6d64de"
      },
      "execution_count": null,
      "outputs": [
        {
          "output_type": "stream",
          "name": "stdout",
          "text": [
            "Varianza Conductor A:  1.0\n",
            "Varianza Conductor B:  0.33333333333333337\n",
            "Varianza Conductor C:  0.33333333333333337\n",
            "Varianza Conductor D:  0.33333333333333337\n",
            "Varianza Conductor E:  0.0\n",
            "Estimador de Ve (Varianza Intraclase):  0.4000000000000001\n"
          ]
        }
      ]
    },
    {
      "cell_type": "markdown",
      "source": [
        "Paso 4: Estimar $V_m$  (Varianza Entre Clases)\n"
      ],
      "metadata": {
        "id": "uID4C-fD81ij"
      }
    },
    {
      "cell_type": "code",
      "source": [
        "# Calcular la varianza entre clases para cada conductor\n",
        "# Esta es la varianza de las medias individuales alrededor de la media global\n",
        "\n",
        "# Lista de las medias individuales\n",
        "medias_individuales = [S_A, S_B, S_C, S_D, S_E]\n",
        "\n",
        "# Calcular la suma de los cuadrados de las diferencias entre las medias individuales y la media global\n",
        "for media in medias_individuales:\n",
        "    print(\"Media: \",media, \" S: \", S, \" = \", (media - S)**2)\n",
        "\n",
        "sum_sq_diff_medias = sum([(media - S)**2 for media in medias_individuales])\n",
        "\n",
        "\n",
        "# Calcular el término M-1\n",
        "M_minus_1 = len(medias_individuales) - 1\n",
        "\n",
        "# Calcular el primer término de la fórmula de Vm_hat para n_j constante\n",
        "# El número de observaciones por conductor (n) es 3\n",
        "n = 3\n",
        "primer_termino = (1 / M_minus_1) * sum_sq_diff_medias\n",
        "\n",
        "# Calcular el segundo término de la fórmula de Vm_hat para n_j constante\n",
        "segundo_termino = (1 / n) * Ve_hat\n",
        "\n",
        "# Estimar Vm (Varianza Interclase)\n",
        "Vm_hat = primer_termino - segundo_termino\n",
        "\n",
        "# Truncar Vm_hat a 0 si es negativo\n",
        "if Vm_hat < 0:\n",
        "    Vm_hat = 0\n",
        "\n",
        "print(\"Estimador de Vm (Varianza Interclase): \", Vm_hat)\n"
      ],
      "metadata": {
        "colab": {
          "base_uri": "https://localhost:8080/"
        },
        "id": "SX-UK9_k86Lq",
        "outputId": "6230f215-0892-4d14-f437-30c8104861d8"
      },
      "execution_count": null,
      "outputs": [
        {
          "output_type": "stream",
          "name": "stdout",
          "text": [
            "Media:  1.0  S:  0.8666666666666667  =  0.01777777777777777\n",
            "Media:  0.3333333333333333  S:  0.8666666666666667  =  0.28444444444444456\n",
            "Media:  2.3333333333333335  S:  0.8666666666666667  =  2.1511111111111116\n",
            "Media:  0.6666666666666666  S:  0.8666666666666667  =  0.04000000000000003\n",
            "Media:  0.0  S:  0.8666666666666667  =  0.7511111111111112\n",
            "Estimador de Vm (Varianza Interclase):  0.677777777777778\n"
          ]
        }
      ]
    },
    {
      "cell_type": "markdown",
      "source": [
        "Paso 5: Calcular $k$"
      ],
      "metadata": {
        "id": "KByTwY439iC5"
      }
    },
    {
      "cell_type": "code",
      "source": [
        "k = Ve_hat / Vm_hat\n",
        "\n",
        "# Manejar el caso donde Vm_hat es 0 para evitar división por cero\n",
        "if Vm_hat == 0:\n",
        "    k = float('inf') # k es infinito si no hay variabilidad entre grupos\n",
        "\n",
        "print(\"Factor k:\", k)"
      ],
      "metadata": {
        "colab": {
          "base_uri": "https://localhost:8080/"
        },
        "id": "Es1_SwLN9lCx",
        "outputId": "2783767c-8f19-4eea-f2c9-ffac46d868c1"
      },
      "execution_count": null,
      "outputs": [
        {
          "output_type": "stream",
          "name": "stdout",
          "text": [
            "Factor k: 0.5901639344262294\n"
          ]
        }
      ]
    },
    {
      "cell_type": "markdown",
      "source": [
        "Paso 6: Calcular el Factor de Credibilidad $Z$ para cada asegurado (aquí n=3 para todos)\n"
      ],
      "metadata": {
        "id": "qT-y0Xwx9xSS"
      }
    },
    {
      "cell_type": "code",
      "source": [
        "# Como n_j es el mismo para todos los conductores (n=3), Z será el mismo para todos\n",
        "n = 3\n",
        "Z = n / (n + k)\n",
        "\n",
        "# Manejar el caso donde k es infinito\n",
        "if k == float('inf'):\n",
        "    Z = 0 # Si k es infinito (Vm_hat=0), Z es 0\n",
        "\n",
        "print(\"Factor de Credibilidad Z:\", Z)\n"
      ],
      "metadata": {
        "colab": {
          "base_uri": "https://localhost:8080/"
        },
        "id": "_y10qGks9z20",
        "outputId": "7fff4349-b954-4bfc-bdb1-11fbe18d379b"
      },
      "execution_count": null,
      "outputs": [
        {
          "output_type": "stream",
          "name": "stdout",
          "text": [
            "Factor de Credibilidad Z: 0.8356164383561644\n"
          ]
        }
      ]
    },
    {
      "cell_type": "markdown",
      "source": [
        "Paso 7: Calcular la Prima de Bühlmann para cada conductor\n"
      ],
      "metadata": {
        "id": "UY_qyYj89-Sy"
      }
    },
    {
      "cell_type": "code",
      "source": [
        "# Prima de Bühlmann para cada conductor\n",
        "prima_A = Z * S_A + (1 - Z) * S\n",
        "prima_B = Z * S_B + (1 - Z) * S\n",
        "prima_C = Z * S_C + (1 - Z) * S\n",
        "prima_D = Z * S_D + (1 - Z) * S\n",
        "prima_E = Z * S_E + (1 - Z) * S\n",
        "\n",
        "print(\"\\nPrimas de Bühlmann:\")\n",
        "print(\"Prima Conductor A:\", prima_A)\n",
        "print(\"Prima Conductor B:\", prima_B)\n",
        "print(\"Prima Conductor C:\", prima_C)\n",
        "print(\"Prima Conductor D:\", prima_D)\n",
        "print(\"Prima Conductor E:\", prima_E)"
      ],
      "metadata": {
        "colab": {
          "base_uri": "https://localhost:8080/"
        },
        "id": "GpY-HMuv-AMw",
        "outputId": "fe851cb1-9388-47c1-8ecc-21d7cba33742"
      },
      "execution_count": null,
      "outputs": [
        {
          "output_type": "stream",
          "name": "stdout",
          "text": [
            "\n",
            "Primas de Bühlmann:\n",
            "Prima Conductor A: 0.9780821917808219\n",
            "Prima Conductor B: 0.42100456621004567\n",
            "Prima Conductor C: 2.0922374429223747\n",
            "Prima Conductor D: 0.6995433789954337\n",
            "Prima Conductor E: 0.14246575342465753\n"
          ]
        }
      ]
    },
    {
      "cell_type": "code",
      "source": [
        "# agregar la columna media individual\n",
        "\n",
        "df['Media Individual'] = [S_A, S_B, S_C, S_D, S_E]\n",
        "\n",
        "# Agregar la columna 'Prima de Buhlmann' al DataFrame\n",
        "df['Prima de Buhlmann'] = [prima_A, prima_B, prima_C, prima_D, prima_E]\n",
        "\n",
        "# Imprimir el DataFrame actualizado\n",
        "df\n"
      ],
      "metadata": {
        "colab": {
          "base_uri": "https://localhost:8080/",
          "height": 221
        },
        "id": "5gUG0UiSBcP7",
        "outputId": "cc3d00cc-dbdf-40a9-ab3f-fb00eeab2b40"
      },
      "execution_count": null,
      "outputs": [
        {
          "output_type": "execute_result",
          "data": {
            "text/plain": [
              "  Conductor  Año 1  Año 2  Año 3  Total Siniestros  Media Individual  \\\n",
              "0         A      1      2      0                 3          1.000000   \n",
              "1         B      0      1      0                 1          0.333333   \n",
              "2         C      2      2      3                 7          2.333333   \n",
              "3         D      1      0      1                 2          0.666667   \n",
              "4         E      0      0      0                 0          0.000000   \n",
              "\n",
              "   Prima de Buhlmann  \n",
              "0           0.978082  \n",
              "1           0.421005  \n",
              "2           2.092237  \n",
              "3           0.699543  \n",
              "4           0.142466  "
            ],
            "text/html": [
              "\n",
              "  <div id=\"df-fce1e415-8c0b-4d51-82a4-53f6e19cb11d\" class=\"colab-df-container\">\n",
              "    <div>\n",
              "<style scoped>\n",
              "    .dataframe tbody tr th:only-of-type {\n",
              "        vertical-align: middle;\n",
              "    }\n",
              "\n",
              "    .dataframe tbody tr th {\n",
              "        vertical-align: top;\n",
              "    }\n",
              "\n",
              "    .dataframe thead th {\n",
              "        text-align: right;\n",
              "    }\n",
              "</style>\n",
              "<table border=\"1\" class=\"dataframe\">\n",
              "  <thead>\n",
              "    <tr style=\"text-align: right;\">\n",
              "      <th></th>\n",
              "      <th>Conductor</th>\n",
              "      <th>Año 1</th>\n",
              "      <th>Año 2</th>\n",
              "      <th>Año 3</th>\n",
              "      <th>Total Siniestros</th>\n",
              "      <th>Media Individual</th>\n",
              "      <th>Prima de Buhlmann</th>\n",
              "    </tr>\n",
              "  </thead>\n",
              "  <tbody>\n",
              "    <tr>\n",
              "      <th>0</th>\n",
              "      <td>A</td>\n",
              "      <td>1</td>\n",
              "      <td>2</td>\n",
              "      <td>0</td>\n",
              "      <td>3</td>\n",
              "      <td>1.000000</td>\n",
              "      <td>0.978082</td>\n",
              "    </tr>\n",
              "    <tr>\n",
              "      <th>1</th>\n",
              "      <td>B</td>\n",
              "      <td>0</td>\n",
              "      <td>1</td>\n",
              "      <td>0</td>\n",
              "      <td>1</td>\n",
              "      <td>0.333333</td>\n",
              "      <td>0.421005</td>\n",
              "    </tr>\n",
              "    <tr>\n",
              "      <th>2</th>\n",
              "      <td>C</td>\n",
              "      <td>2</td>\n",
              "      <td>2</td>\n",
              "      <td>3</td>\n",
              "      <td>7</td>\n",
              "      <td>2.333333</td>\n",
              "      <td>2.092237</td>\n",
              "    </tr>\n",
              "    <tr>\n",
              "      <th>3</th>\n",
              "      <td>D</td>\n",
              "      <td>1</td>\n",
              "      <td>0</td>\n",
              "      <td>1</td>\n",
              "      <td>2</td>\n",
              "      <td>0.666667</td>\n",
              "      <td>0.699543</td>\n",
              "    </tr>\n",
              "    <tr>\n",
              "      <th>4</th>\n",
              "      <td>E</td>\n",
              "      <td>0</td>\n",
              "      <td>0</td>\n",
              "      <td>0</td>\n",
              "      <td>0</td>\n",
              "      <td>0.000000</td>\n",
              "      <td>0.142466</td>\n",
              "    </tr>\n",
              "  </tbody>\n",
              "</table>\n",
              "</div>\n",
              "    <div class=\"colab-df-buttons\">\n",
              "\n",
              "  <div class=\"colab-df-container\">\n",
              "    <button class=\"colab-df-convert\" onclick=\"convertToInteractive('df-fce1e415-8c0b-4d51-82a4-53f6e19cb11d')\"\n",
              "            title=\"Convert this dataframe to an interactive table.\"\n",
              "            style=\"display:none;\">\n",
              "\n",
              "  <svg xmlns=\"http://www.w3.org/2000/svg\" height=\"24px\" viewBox=\"0 -960 960 960\">\n",
              "    <path d=\"M120-120v-720h720v720H120Zm60-500h600v-160H180v160Zm220 220h160v-160H400v160Zm0 220h160v-160H400v160ZM180-400h160v-160H180v160Zm440 0h160v-160H620v160ZM180-180h160v-160H180v160Zm440 0h160v-160H620v160Z\"/>\n",
              "  </svg>\n",
              "    </button>\n",
              "\n",
              "  <style>\n",
              "    .colab-df-container {\n",
              "      display:flex;\n",
              "      gap: 12px;\n",
              "    }\n",
              "\n",
              "    .colab-df-convert {\n",
              "      background-color: #E8F0FE;\n",
              "      border: none;\n",
              "      border-radius: 50%;\n",
              "      cursor: pointer;\n",
              "      display: none;\n",
              "      fill: #1967D2;\n",
              "      height: 32px;\n",
              "      padding: 0 0 0 0;\n",
              "      width: 32px;\n",
              "    }\n",
              "\n",
              "    .colab-df-convert:hover {\n",
              "      background-color: #E2EBFA;\n",
              "      box-shadow: 0px 1px 2px rgba(60, 64, 67, 0.3), 0px 1px 3px 1px rgba(60, 64, 67, 0.15);\n",
              "      fill: #174EA6;\n",
              "    }\n",
              "\n",
              "    .colab-df-buttons div {\n",
              "      margin-bottom: 4px;\n",
              "    }\n",
              "\n",
              "    [theme=dark] .colab-df-convert {\n",
              "      background-color: #3B4455;\n",
              "      fill: #D2E3FC;\n",
              "    }\n",
              "\n",
              "    [theme=dark] .colab-df-convert:hover {\n",
              "      background-color: #434B5C;\n",
              "      box-shadow: 0px 1px 3px 1px rgba(0, 0, 0, 0.15);\n",
              "      filter: drop-shadow(0px 1px 2px rgba(0, 0, 0, 0.3));\n",
              "      fill: #FFFFFF;\n",
              "    }\n",
              "  </style>\n",
              "\n",
              "    <script>\n",
              "      const buttonEl =\n",
              "        document.querySelector('#df-fce1e415-8c0b-4d51-82a4-53f6e19cb11d button.colab-df-convert');\n",
              "      buttonEl.style.display =\n",
              "        google.colab.kernel.accessAllowed ? 'block' : 'none';\n",
              "\n",
              "      async function convertToInteractive(key) {\n",
              "        const element = document.querySelector('#df-fce1e415-8c0b-4d51-82a4-53f6e19cb11d');\n",
              "        const dataTable =\n",
              "          await google.colab.kernel.invokeFunction('convertToInteractive',\n",
              "                                                    [key], {});\n",
              "        if (!dataTable) return;\n",
              "\n",
              "        const docLinkHtml = 'Like what you see? Visit the ' +\n",
              "          '<a target=\"_blank\" href=https://colab.research.google.com/notebooks/data_table.ipynb>data table notebook</a>'\n",
              "          + ' to learn more about interactive tables.';\n",
              "        element.innerHTML = '';\n",
              "        dataTable['output_type'] = 'display_data';\n",
              "        await google.colab.output.renderOutput(dataTable, element);\n",
              "        const docLink = document.createElement('div');\n",
              "        docLink.innerHTML = docLinkHtml;\n",
              "        element.appendChild(docLink);\n",
              "      }\n",
              "    </script>\n",
              "  </div>\n",
              "\n",
              "\n",
              "    <div id=\"df-3a35facd-901d-4445-9be4-413ffd1de0e6\">\n",
              "      <button class=\"colab-df-quickchart\" onclick=\"quickchart('df-3a35facd-901d-4445-9be4-413ffd1de0e6')\"\n",
              "                title=\"Suggest charts\"\n",
              "                style=\"display:none;\">\n",
              "\n",
              "<svg xmlns=\"http://www.w3.org/2000/svg\" height=\"24px\"viewBox=\"0 0 24 24\"\n",
              "     width=\"24px\">\n",
              "    <g>\n",
              "        <path d=\"M19 3H5c-1.1 0-2 .9-2 2v14c0 1.1.9 2 2 2h14c1.1 0 2-.9 2-2V5c0-1.1-.9-2-2-2zM9 17H7v-7h2v7zm4 0h-2V7h2v10zm4 0h-2v-4h2v4z\"/>\n",
              "    </g>\n",
              "</svg>\n",
              "      </button>\n",
              "\n",
              "<style>\n",
              "  .colab-df-quickchart {\n",
              "      --bg-color: #E8F0FE;\n",
              "      --fill-color: #1967D2;\n",
              "      --hover-bg-color: #E2EBFA;\n",
              "      --hover-fill-color: #174EA6;\n",
              "      --disabled-fill-color: #AAA;\n",
              "      --disabled-bg-color: #DDD;\n",
              "  }\n",
              "\n",
              "  [theme=dark] .colab-df-quickchart {\n",
              "      --bg-color: #3B4455;\n",
              "      --fill-color: #D2E3FC;\n",
              "      --hover-bg-color: #434B5C;\n",
              "      --hover-fill-color: #FFFFFF;\n",
              "      --disabled-bg-color: #3B4455;\n",
              "      --disabled-fill-color: #666;\n",
              "  }\n",
              "\n",
              "  .colab-df-quickchart {\n",
              "    background-color: var(--bg-color);\n",
              "    border: none;\n",
              "    border-radius: 50%;\n",
              "    cursor: pointer;\n",
              "    display: none;\n",
              "    fill: var(--fill-color);\n",
              "    height: 32px;\n",
              "    padding: 0;\n",
              "    width: 32px;\n",
              "  }\n",
              "\n",
              "  .colab-df-quickchart:hover {\n",
              "    background-color: var(--hover-bg-color);\n",
              "    box-shadow: 0 1px 2px rgba(60, 64, 67, 0.3), 0 1px 3px 1px rgba(60, 64, 67, 0.15);\n",
              "    fill: var(--button-hover-fill-color);\n",
              "  }\n",
              "\n",
              "  .colab-df-quickchart-complete:disabled,\n",
              "  .colab-df-quickchart-complete:disabled:hover {\n",
              "    background-color: var(--disabled-bg-color);\n",
              "    fill: var(--disabled-fill-color);\n",
              "    box-shadow: none;\n",
              "  }\n",
              "\n",
              "  .colab-df-spinner {\n",
              "    border: 2px solid var(--fill-color);\n",
              "    border-color: transparent;\n",
              "    border-bottom-color: var(--fill-color);\n",
              "    animation:\n",
              "      spin 1s steps(1) infinite;\n",
              "  }\n",
              "\n",
              "  @keyframes spin {\n",
              "    0% {\n",
              "      border-color: transparent;\n",
              "      border-bottom-color: var(--fill-color);\n",
              "      border-left-color: var(--fill-color);\n",
              "    }\n",
              "    20% {\n",
              "      border-color: transparent;\n",
              "      border-left-color: var(--fill-color);\n",
              "      border-top-color: var(--fill-color);\n",
              "    }\n",
              "    30% {\n",
              "      border-color: transparent;\n",
              "      border-left-color: var(--fill-color);\n",
              "      border-top-color: var(--fill-color);\n",
              "      border-right-color: var(--fill-color);\n",
              "    }\n",
              "    40% {\n",
              "      border-color: transparent;\n",
              "      border-right-color: var(--fill-color);\n",
              "      border-top-color: var(--fill-color);\n",
              "    }\n",
              "    60% {\n",
              "      border-color: transparent;\n",
              "      border-right-color: var(--fill-color);\n",
              "    }\n",
              "    80% {\n",
              "      border-color: transparent;\n",
              "      border-right-color: var(--fill-color);\n",
              "      border-bottom-color: var(--fill-color);\n",
              "    }\n",
              "    90% {\n",
              "      border-color: transparent;\n",
              "      border-bottom-color: var(--fill-color);\n",
              "    }\n",
              "  }\n",
              "</style>\n",
              "\n",
              "      <script>\n",
              "        async function quickchart(key) {\n",
              "          const quickchartButtonEl =\n",
              "            document.querySelector('#' + key + ' button');\n",
              "          quickchartButtonEl.disabled = true;  // To prevent multiple clicks.\n",
              "          quickchartButtonEl.classList.add('colab-df-spinner');\n",
              "          try {\n",
              "            const charts = await google.colab.kernel.invokeFunction(\n",
              "                'suggestCharts', [key], {});\n",
              "          } catch (error) {\n",
              "            console.error('Error during call to suggestCharts:', error);\n",
              "          }\n",
              "          quickchartButtonEl.classList.remove('colab-df-spinner');\n",
              "          quickchartButtonEl.classList.add('colab-df-quickchart-complete');\n",
              "        }\n",
              "        (() => {\n",
              "          let quickchartButtonEl =\n",
              "            document.querySelector('#df-3a35facd-901d-4445-9be4-413ffd1de0e6 button');\n",
              "          quickchartButtonEl.style.display =\n",
              "            google.colab.kernel.accessAllowed ? 'block' : 'none';\n",
              "        })();\n",
              "      </script>\n",
              "    </div>\n",
              "\n",
              "  <div id=\"id_9c7b5cd2-70a1-49da-b767-57fadfc38c3b\">\n",
              "    <style>\n",
              "      .colab-df-generate {\n",
              "        background-color: #E8F0FE;\n",
              "        border: none;\n",
              "        border-radius: 50%;\n",
              "        cursor: pointer;\n",
              "        display: none;\n",
              "        fill: #1967D2;\n",
              "        height: 32px;\n",
              "        padding: 0 0 0 0;\n",
              "        width: 32px;\n",
              "      }\n",
              "\n",
              "      .colab-df-generate:hover {\n",
              "        background-color: #E2EBFA;\n",
              "        box-shadow: 0px 1px 2px rgba(60, 64, 67, 0.3), 0px 1px 3px 1px rgba(60, 64, 67, 0.15);\n",
              "        fill: #174EA6;\n",
              "      }\n",
              "\n",
              "      [theme=dark] .colab-df-generate {\n",
              "        background-color: #3B4455;\n",
              "        fill: #D2E3FC;\n",
              "      }\n",
              "\n",
              "      [theme=dark] .colab-df-generate:hover {\n",
              "        background-color: #434B5C;\n",
              "        box-shadow: 0px 1px 3px 1px rgba(0, 0, 0, 0.15);\n",
              "        filter: drop-shadow(0px 1px 2px rgba(0, 0, 0, 0.3));\n",
              "        fill: #FFFFFF;\n",
              "      }\n",
              "    </style>\n",
              "    <button class=\"colab-df-generate\" onclick=\"generateWithVariable('df')\"\n",
              "            title=\"Generate code using this dataframe.\"\n",
              "            style=\"display:none;\">\n",
              "\n",
              "  <svg xmlns=\"http://www.w3.org/2000/svg\" height=\"24px\"viewBox=\"0 0 24 24\"\n",
              "       width=\"24px\">\n",
              "    <path d=\"M7,19H8.4L18.45,9,17,7.55,7,17.6ZM5,21V16.75L18.45,3.32a2,2,0,0,1,2.83,0l1.4,1.43a1.91,1.91,0,0,1,.58,1.4,1.91,1.91,0,0,1-.58,1.4L9.25,21ZM18.45,9,17,7.55Zm-12,3A5.31,5.31,0,0,0,4.9,8.1,5.31,5.31,0,0,0,1,6.5,5.31,5.31,0,0,0,4.9,4.9,5.31,5.31,0,0,0,6.5,1,5.31,5.31,0,0,0,8.1,4.9,5.31,5.31,0,0,0,12,6.5,5.46,5.46,0,0,0,6.5,12Z\"/>\n",
              "  </svg>\n",
              "    </button>\n",
              "    <script>\n",
              "      (() => {\n",
              "      const buttonEl =\n",
              "        document.querySelector('#id_9c7b5cd2-70a1-49da-b767-57fadfc38c3b button.colab-df-generate');\n",
              "      buttonEl.style.display =\n",
              "        google.colab.kernel.accessAllowed ? 'block' : 'none';\n",
              "\n",
              "      buttonEl.onclick = () => {\n",
              "        google.colab.notebook.generateWithVariable('df');\n",
              "      }\n",
              "      })();\n",
              "    </script>\n",
              "  </div>\n",
              "\n",
              "    </div>\n",
              "  </div>\n"
            ],
            "application/vnd.google.colaboratory.intrinsic+json": {
              "type": "dataframe",
              "variable_name": "df",
              "summary": "{\n  \"name\": \"df\",\n  \"rows\": 5,\n  \"fields\": [\n    {\n      \"column\": \"Conductor\",\n      \"properties\": {\n        \"dtype\": \"string\",\n        \"num_unique_values\": 5,\n        \"samples\": [\n          \"B\",\n          \"E\",\n          \"C\"\n        ],\n        \"semantic_type\": \"\",\n        \"description\": \"\"\n      }\n    },\n    {\n      \"column\": \"A\\u00f1o 1\",\n      \"properties\": {\n        \"dtype\": \"number\",\n        \"std\": 0,\n        \"min\": 0,\n        \"max\": 2,\n        \"num_unique_values\": 3,\n        \"samples\": [\n          1,\n          0,\n          2\n        ],\n        \"semantic_type\": \"\",\n        \"description\": \"\"\n      }\n    },\n    {\n      \"column\": \"A\\u00f1o 2\",\n      \"properties\": {\n        \"dtype\": \"number\",\n        \"std\": 1,\n        \"min\": 0,\n        \"max\": 2,\n        \"num_unique_values\": 3,\n        \"samples\": [\n          2,\n          1,\n          0\n        ],\n        \"semantic_type\": \"\",\n        \"description\": \"\"\n      }\n    },\n    {\n      \"column\": \"A\\u00f1o 3\",\n      \"properties\": {\n        \"dtype\": \"number\",\n        \"std\": 1,\n        \"min\": 0,\n        \"max\": 3,\n        \"num_unique_values\": 3,\n        \"samples\": [\n          0,\n          3,\n          1\n        ],\n        \"semantic_type\": \"\",\n        \"description\": \"\"\n      }\n    },\n    {\n      \"column\": \"Total Siniestros\",\n      \"properties\": {\n        \"dtype\": \"number\",\n        \"std\": 2,\n        \"min\": 0,\n        \"max\": 7,\n        \"num_unique_values\": 5,\n        \"samples\": [\n          1,\n          0,\n          7\n        ],\n        \"semantic_type\": \"\",\n        \"description\": \"\"\n      }\n    },\n    {\n      \"column\": \"Media Individual\",\n      \"properties\": {\n        \"dtype\": \"number\",\n        \"std\": 0.9006170724070865,\n        \"min\": 0.0,\n        \"max\": 2.3333333333333335,\n        \"num_unique_values\": 5,\n        \"samples\": [\n          0.3333333333333333,\n          0.0,\n          2.3333333333333335\n        ],\n        \"semantic_type\": \"\",\n        \"description\": \"\"\n      }\n    },\n    {\n      \"column\": \"Prima de Buhlmann\",\n      \"properties\": {\n        \"dtype\": \"number\",\n        \"std\": 0.7525704303675654,\n        \"min\": 0.14246575342465753,\n        \"max\": 2.0922374429223747,\n        \"num_unique_values\": 5,\n        \"samples\": [\n          0.42100456621004567,\n          0.14246575342465753,\n          2.0922374429223747\n        ],\n        \"semantic_type\": \"\",\n        \"description\": \"\"\n      }\n    }\n  ]\n}"
            }
          },
          "metadata": {},
          "execution_count": 10
        }
      ]
    },
    {
      "cell_type": "markdown",
      "source": [
        "**Discusión del Ejemplo**\n",
        "\n",
        "- El conductor C, con alta siniestralidad pasada, recibe una prima alta, pero \"suavizada\" hacia la media del grupo (2.33 -> 2.09).\n",
        "\n",
        "- El conductor E, sin siniestros, no recibe una prima de 0, sino una que es una combinación de su experiencia (0) y la del grupo (0.8667) (Media Global), resultando en 0.142.\n",
        "\n",
        "- El factor de credibilidad $Z≈0.8356$ indica que confiamos bastante en la experiencia individual (aproximadamente 83.6%), pero aún el 16.4% proviene de la media del grupo, lo que ayuda a estabilizar las primas y mitigar el riesgo de tener pocos datos.\n"
      ],
      "metadata": {
        "id": "N8hFoxeaBxLq"
      }
    },
    {
      "cell_type": "markdown",
      "source": [
        "## Ejercicio"
      ],
      "metadata": {
        "id": "FWzmjCACyZzA"
      }
    },
    {
      "cell_type": "markdown",
      "source": [
        "Sobre un dataset simulado de seguros de autos. Estime las primas creíbles combinando la experiencia individual de cada asegurado con la experiencia global del portafolio."
      ],
      "metadata": {
        "id": "I7OnEKksbcsq"
      }
    },
    {
      "cell_type": "markdown",
      "source": [
        "- Número de asegurados: 100\n",
        "- Años = 5\n",
        "\n",
        "**La fórmula es:**\n",
        "- Prima creíble = Z * Promedio Individual + (1 - Z) * Promedio Global\n",
        "\n",
        "donde Z es el factor de credibilidad:\n",
        "\n",
        "- **$Z = \\frac{n}{n + \\frac{S²}{a}} $**\n",
        "\n",
        "- n: número de observaciones (años)\n",
        "- S²: varianza adentro de los grupos (intra)\n",
        "- a: varianza entre grupos (medias) (entre)"
      ],
      "metadata": {
        "id": "3TTCrFbzf-Bb"
      }
    },
    {
      "cell_type": "code",
      "source": [
        "#importar librerias\n",
        "\n",
        "import numpy as np\n",
        "import matplotlib.pyplot as plt\n",
        "import pandas as pd\n",
        "import seaborn as sns\n",
        "sns.set(style='whitegrid')"
      ],
      "metadata": {
        "id": "b2GluucjYD93"
      },
      "execution_count": null,
      "outputs": []
    },
    {
      "cell_type": "markdown",
      "source": [],
      "metadata": {
        "id": "tWHyG-hanEEm"
      }
    },
    {
      "cell_type": "code",
      "source": [
        "#leer datos\n",
        "\n",
        "datos = pd.read_csv('dataset_siniestros_autos_10x100.csv')\n",
        "datos.head(10)"
      ],
      "metadata": {
        "colab": {
          "base_uri": "https://localhost:8080/",
          "height": 359
        },
        "id": "tLdP2d6oYiC3",
        "outputId": "cf407897-33d7-4171-f8ea-77d5e7a9386e"
      },
      "execution_count": null,
      "outputs": [
        {
          "output_type": "execute_result",
          "data": {
            "text/plain": [
              "   asegurado_id  anio  numero_siniestros  monto_total\n",
              "0             1     1                  2     61441.79\n",
              "1             1     2                  2     38991.98\n",
              "2             1     3                  1      7356.86\n",
              "3             1     4                  0         0.00\n",
              "4             1     5                  1     43651.77\n",
              "5             1     6                  2     23974.91\n",
              "6             1     7                  2     61834.79\n",
              "7             1     8                  2     25003.43\n",
              "8             1     9                  0         0.00\n",
              "9             1    10                  1     30838.51"
            ],
            "text/html": [
              "\n",
              "  <div id=\"df-566310dc-9a92-4fd3-bd7c-7e510b8238e3\" class=\"colab-df-container\">\n",
              "    <div>\n",
              "<style scoped>\n",
              "    .dataframe tbody tr th:only-of-type {\n",
              "        vertical-align: middle;\n",
              "    }\n",
              "\n",
              "    .dataframe tbody tr th {\n",
              "        vertical-align: top;\n",
              "    }\n",
              "\n",
              "    .dataframe thead th {\n",
              "        text-align: right;\n",
              "    }\n",
              "</style>\n",
              "<table border=\"1\" class=\"dataframe\">\n",
              "  <thead>\n",
              "    <tr style=\"text-align: right;\">\n",
              "      <th></th>\n",
              "      <th>asegurado_id</th>\n",
              "      <th>anio</th>\n",
              "      <th>numero_siniestros</th>\n",
              "      <th>monto_total</th>\n",
              "    </tr>\n",
              "  </thead>\n",
              "  <tbody>\n",
              "    <tr>\n",
              "      <th>0</th>\n",
              "      <td>1</td>\n",
              "      <td>1</td>\n",
              "      <td>2</td>\n",
              "      <td>61441.79</td>\n",
              "    </tr>\n",
              "    <tr>\n",
              "      <th>1</th>\n",
              "      <td>1</td>\n",
              "      <td>2</td>\n",
              "      <td>2</td>\n",
              "      <td>38991.98</td>\n",
              "    </tr>\n",
              "    <tr>\n",
              "      <th>2</th>\n",
              "      <td>1</td>\n",
              "      <td>3</td>\n",
              "      <td>1</td>\n",
              "      <td>7356.86</td>\n",
              "    </tr>\n",
              "    <tr>\n",
              "      <th>3</th>\n",
              "      <td>1</td>\n",
              "      <td>4</td>\n",
              "      <td>0</td>\n",
              "      <td>0.00</td>\n",
              "    </tr>\n",
              "    <tr>\n",
              "      <th>4</th>\n",
              "      <td>1</td>\n",
              "      <td>5</td>\n",
              "      <td>1</td>\n",
              "      <td>43651.77</td>\n",
              "    </tr>\n",
              "    <tr>\n",
              "      <th>5</th>\n",
              "      <td>1</td>\n",
              "      <td>6</td>\n",
              "      <td>2</td>\n",
              "      <td>23974.91</td>\n",
              "    </tr>\n",
              "    <tr>\n",
              "      <th>6</th>\n",
              "      <td>1</td>\n",
              "      <td>7</td>\n",
              "      <td>2</td>\n",
              "      <td>61834.79</td>\n",
              "    </tr>\n",
              "    <tr>\n",
              "      <th>7</th>\n",
              "      <td>1</td>\n",
              "      <td>8</td>\n",
              "      <td>2</td>\n",
              "      <td>25003.43</td>\n",
              "    </tr>\n",
              "    <tr>\n",
              "      <th>8</th>\n",
              "      <td>1</td>\n",
              "      <td>9</td>\n",
              "      <td>0</td>\n",
              "      <td>0.00</td>\n",
              "    </tr>\n",
              "    <tr>\n",
              "      <th>9</th>\n",
              "      <td>1</td>\n",
              "      <td>10</td>\n",
              "      <td>1</td>\n",
              "      <td>30838.51</td>\n",
              "    </tr>\n",
              "  </tbody>\n",
              "</table>\n",
              "</div>\n",
              "    <div class=\"colab-df-buttons\">\n",
              "\n",
              "  <div class=\"colab-df-container\">\n",
              "    <button class=\"colab-df-convert\" onclick=\"convertToInteractive('df-566310dc-9a92-4fd3-bd7c-7e510b8238e3')\"\n",
              "            title=\"Convert this dataframe to an interactive table.\"\n",
              "            style=\"display:none;\">\n",
              "\n",
              "  <svg xmlns=\"http://www.w3.org/2000/svg\" height=\"24px\" viewBox=\"0 -960 960 960\">\n",
              "    <path d=\"M120-120v-720h720v720H120Zm60-500h600v-160H180v160Zm220 220h160v-160H400v160Zm0 220h160v-160H400v160ZM180-400h160v-160H180v160Zm440 0h160v-160H620v160ZM180-180h160v-160H180v160Zm440 0h160v-160H620v160Z\"/>\n",
              "  </svg>\n",
              "    </button>\n",
              "\n",
              "  <style>\n",
              "    .colab-df-container {\n",
              "      display:flex;\n",
              "      gap: 12px;\n",
              "    }\n",
              "\n",
              "    .colab-df-convert {\n",
              "      background-color: #E8F0FE;\n",
              "      border: none;\n",
              "      border-radius: 50%;\n",
              "      cursor: pointer;\n",
              "      display: none;\n",
              "      fill: #1967D2;\n",
              "      height: 32px;\n",
              "      padding: 0 0 0 0;\n",
              "      width: 32px;\n",
              "    }\n",
              "\n",
              "    .colab-df-convert:hover {\n",
              "      background-color: #E2EBFA;\n",
              "      box-shadow: 0px 1px 2px rgba(60, 64, 67, 0.3), 0px 1px 3px 1px rgba(60, 64, 67, 0.15);\n",
              "      fill: #174EA6;\n",
              "    }\n",
              "\n",
              "    .colab-df-buttons div {\n",
              "      margin-bottom: 4px;\n",
              "    }\n",
              "\n",
              "    [theme=dark] .colab-df-convert {\n",
              "      background-color: #3B4455;\n",
              "      fill: #D2E3FC;\n",
              "    }\n",
              "\n",
              "    [theme=dark] .colab-df-convert:hover {\n",
              "      background-color: #434B5C;\n",
              "      box-shadow: 0px 1px 3px 1px rgba(0, 0, 0, 0.15);\n",
              "      filter: drop-shadow(0px 1px 2px rgba(0, 0, 0, 0.3));\n",
              "      fill: #FFFFFF;\n",
              "    }\n",
              "  </style>\n",
              "\n",
              "    <script>\n",
              "      const buttonEl =\n",
              "        document.querySelector('#df-566310dc-9a92-4fd3-bd7c-7e510b8238e3 button.colab-df-convert');\n",
              "      buttonEl.style.display =\n",
              "        google.colab.kernel.accessAllowed ? 'block' : 'none';\n",
              "\n",
              "      async function convertToInteractive(key) {\n",
              "        const element = document.querySelector('#df-566310dc-9a92-4fd3-bd7c-7e510b8238e3');\n",
              "        const dataTable =\n",
              "          await google.colab.kernel.invokeFunction('convertToInteractive',\n",
              "                                                    [key], {});\n",
              "        if (!dataTable) return;\n",
              "\n",
              "        const docLinkHtml = 'Like what you see? Visit the ' +\n",
              "          '<a target=\"_blank\" href=https://colab.research.google.com/notebooks/data_table.ipynb>data table notebook</a>'\n",
              "          + ' to learn more about interactive tables.';\n",
              "        element.innerHTML = '';\n",
              "        dataTable['output_type'] = 'display_data';\n",
              "        await google.colab.output.renderOutput(dataTable, element);\n",
              "        const docLink = document.createElement('div');\n",
              "        docLink.innerHTML = docLinkHtml;\n",
              "        element.appendChild(docLink);\n",
              "      }\n",
              "    </script>\n",
              "  </div>\n",
              "\n",
              "\n",
              "    <div id=\"df-4512af37-1395-4b17-8f69-b1e4433fbc95\">\n",
              "      <button class=\"colab-df-quickchart\" onclick=\"quickchart('df-4512af37-1395-4b17-8f69-b1e4433fbc95')\"\n",
              "                title=\"Suggest charts\"\n",
              "                style=\"display:none;\">\n",
              "\n",
              "<svg xmlns=\"http://www.w3.org/2000/svg\" height=\"24px\"viewBox=\"0 0 24 24\"\n",
              "     width=\"24px\">\n",
              "    <g>\n",
              "        <path d=\"M19 3H5c-1.1 0-2 .9-2 2v14c0 1.1.9 2 2 2h14c1.1 0 2-.9 2-2V5c0-1.1-.9-2-2-2zM9 17H7v-7h2v7zm4 0h-2V7h2v10zm4 0h-2v-4h2v4z\"/>\n",
              "    </g>\n",
              "</svg>\n",
              "      </button>\n",
              "\n",
              "<style>\n",
              "  .colab-df-quickchart {\n",
              "      --bg-color: #E8F0FE;\n",
              "      --fill-color: #1967D2;\n",
              "      --hover-bg-color: #E2EBFA;\n",
              "      --hover-fill-color: #174EA6;\n",
              "      --disabled-fill-color: #AAA;\n",
              "      --disabled-bg-color: #DDD;\n",
              "  }\n",
              "\n",
              "  [theme=dark] .colab-df-quickchart {\n",
              "      --bg-color: #3B4455;\n",
              "      --fill-color: #D2E3FC;\n",
              "      --hover-bg-color: #434B5C;\n",
              "      --hover-fill-color: #FFFFFF;\n",
              "      --disabled-bg-color: #3B4455;\n",
              "      --disabled-fill-color: #666;\n",
              "  }\n",
              "\n",
              "  .colab-df-quickchart {\n",
              "    background-color: var(--bg-color);\n",
              "    border: none;\n",
              "    border-radius: 50%;\n",
              "    cursor: pointer;\n",
              "    display: none;\n",
              "    fill: var(--fill-color);\n",
              "    height: 32px;\n",
              "    padding: 0;\n",
              "    width: 32px;\n",
              "  }\n",
              "\n",
              "  .colab-df-quickchart:hover {\n",
              "    background-color: var(--hover-bg-color);\n",
              "    box-shadow: 0 1px 2px rgba(60, 64, 67, 0.3), 0 1px 3px 1px rgba(60, 64, 67, 0.15);\n",
              "    fill: var(--button-hover-fill-color);\n",
              "  }\n",
              "\n",
              "  .colab-df-quickchart-complete:disabled,\n",
              "  .colab-df-quickchart-complete:disabled:hover {\n",
              "    background-color: var(--disabled-bg-color);\n",
              "    fill: var(--disabled-fill-color);\n",
              "    box-shadow: none;\n",
              "  }\n",
              "\n",
              "  .colab-df-spinner {\n",
              "    border: 2px solid var(--fill-color);\n",
              "    border-color: transparent;\n",
              "    border-bottom-color: var(--fill-color);\n",
              "    animation:\n",
              "      spin 1s steps(1) infinite;\n",
              "  }\n",
              "\n",
              "  @keyframes spin {\n",
              "    0% {\n",
              "      border-color: transparent;\n",
              "      border-bottom-color: var(--fill-color);\n",
              "      border-left-color: var(--fill-color);\n",
              "    }\n",
              "    20% {\n",
              "      border-color: transparent;\n",
              "      border-left-color: var(--fill-color);\n",
              "      border-top-color: var(--fill-color);\n",
              "    }\n",
              "    30% {\n",
              "      border-color: transparent;\n",
              "      border-left-color: var(--fill-color);\n",
              "      border-top-color: var(--fill-color);\n",
              "      border-right-color: var(--fill-color);\n",
              "    }\n",
              "    40% {\n",
              "      border-color: transparent;\n",
              "      border-right-color: var(--fill-color);\n",
              "      border-top-color: var(--fill-color);\n",
              "    }\n",
              "    60% {\n",
              "      border-color: transparent;\n",
              "      border-right-color: var(--fill-color);\n",
              "    }\n",
              "    80% {\n",
              "      border-color: transparent;\n",
              "      border-right-color: var(--fill-color);\n",
              "      border-bottom-color: var(--fill-color);\n",
              "    }\n",
              "    90% {\n",
              "      border-color: transparent;\n",
              "      border-bottom-color: var(--fill-color);\n",
              "    }\n",
              "  }\n",
              "</style>\n",
              "\n",
              "      <script>\n",
              "        async function quickchart(key) {\n",
              "          const quickchartButtonEl =\n",
              "            document.querySelector('#' + key + ' button');\n",
              "          quickchartButtonEl.disabled = true;  // To prevent multiple clicks.\n",
              "          quickchartButtonEl.classList.add('colab-df-spinner');\n",
              "          try {\n",
              "            const charts = await google.colab.kernel.invokeFunction(\n",
              "                'suggestCharts', [key], {});\n",
              "          } catch (error) {\n",
              "            console.error('Error during call to suggestCharts:', error);\n",
              "          }\n",
              "          quickchartButtonEl.classList.remove('colab-df-spinner');\n",
              "          quickchartButtonEl.classList.add('colab-df-quickchart-complete');\n",
              "        }\n",
              "        (() => {\n",
              "          let quickchartButtonEl =\n",
              "            document.querySelector('#df-4512af37-1395-4b17-8f69-b1e4433fbc95 button');\n",
              "          quickchartButtonEl.style.display =\n",
              "            google.colab.kernel.accessAllowed ? 'block' : 'none';\n",
              "        })();\n",
              "      </script>\n",
              "    </div>\n",
              "\n",
              "    </div>\n",
              "  </div>\n"
            ],
            "application/vnd.google.colaboratory.intrinsic+json": {
              "type": "dataframe",
              "variable_name": "datos",
              "summary": "{\n  \"name\": \"datos\",\n  \"rows\": 1000,\n  \"fields\": [\n    {\n      \"column\": \"asegurado_id\",\n      \"properties\": {\n        \"dtype\": \"number\",\n        \"std\": 28,\n        \"min\": 1,\n        \"max\": 100,\n        \"num_unique_values\": 100,\n        \"samples\": [\n          84,\n          54,\n          71\n        ],\n        \"semantic_type\": \"\",\n        \"description\": \"\"\n      }\n    },\n    {\n      \"column\": \"anio\",\n      \"properties\": {\n        \"dtype\": \"number\",\n        \"std\": 2,\n        \"min\": 1,\n        \"max\": 10,\n        \"num_unique_values\": 10,\n        \"samples\": [\n          9,\n          2,\n          6\n        ],\n        \"semantic_type\": \"\",\n        \"description\": \"\"\n      }\n    },\n    {\n      \"column\": \"numero_siniestros\",\n      \"properties\": {\n        \"dtype\": \"number\",\n        \"std\": 1,\n        \"min\": 0,\n        \"max\": 6,\n        \"num_unique_values\": 7,\n        \"samples\": [\n          2,\n          1,\n          5\n        ],\n        \"semantic_type\": \"\",\n        \"description\": \"\"\n      }\n    },\n    {\n      \"column\": \"monto_total\",\n      \"properties\": {\n        \"dtype\": \"number\",\n        \"std\": 31860.064012614454,\n        \"min\": 0.0,\n        \"max\": 229106.59,\n        \"num_unique_values\": 749,\n        \"samples\": [\n          53136.43,\n          61098.83,\n          51161.11\n        ],\n        \"semantic_type\": \"\",\n        \"description\": \"\"\n      }\n    }\n  ]\n}"
            }
          },
          "metadata": {},
          "execution_count": 12
        }
      ]
    },
    {
      "cell_type": "code",
      "source": [
        "# Número de anios\n",
        "datos.anio.unique()"
      ],
      "metadata": {
        "colab": {
          "base_uri": "https://localhost:8080/"
        },
        "id": "D7CLRO8IgH_s",
        "outputId": "6320caba-6622-4e8f-aef7-1bf7dfb69ee0"
      },
      "execution_count": null,
      "outputs": [
        {
          "output_type": "execute_result",
          "data": {
            "text/plain": [
              "array([ 1,  2,  3,  4,  5,  6,  7,  8,  9, 10])"
            ]
          },
          "metadata": {},
          "execution_count": 13
        }
      ]
    },
    {
      "cell_type": "code",
      "source": [
        "anios = datos.anio.max()\n",
        "print(\"Años: \", anios)"
      ],
      "metadata": {
        "colab": {
          "base_uri": "https://localhost:8080/"
        },
        "id": "dOyjPMXpgdg0",
        "outputId": "b14efcae-e740-48ef-a2fb-029fd3d2cc00"
      },
      "execution_count": null,
      "outputs": [
        {
          "output_type": "stream",
          "name": "stdout",
          "text": [
            "Años:  10\n"
          ]
        }
      ]
    },
    {
      "cell_type": "code",
      "source": [
        "# Número de asegurados\n",
        "datos.asegurado_id.unique()"
      ],
      "metadata": {
        "colab": {
          "base_uri": "https://localhost:8080/"
        },
        "id": "xl9LQBaNgPTU",
        "outputId": "13b0d476-0ea3-4982-88ac-a240d333b3a0"
      },
      "execution_count": null,
      "outputs": [
        {
          "output_type": "execute_result",
          "data": {
            "text/plain": [
              "array([  1,   2,   3,   4,   5,   6,   7,   8,   9,  10,  11,  12,  13,\n",
              "        14,  15,  16,  17,  18,  19,  20,  21,  22,  23,  24,  25,  26,\n",
              "        27,  28,  29,  30,  31,  32,  33,  34,  35,  36,  37,  38,  39,\n",
              "        40,  41,  42,  43,  44,  45,  46,  47,  48,  49,  50,  51,  52,\n",
              "        53,  54,  55,  56,  57,  58,  59,  60,  61,  62,  63,  64,  65,\n",
              "        66,  67,  68,  69,  70,  71,  72,  73,  74,  75,  76,  77,  78,\n",
              "        79,  80,  81,  82,  83,  84,  85,  86,  87,  88,  89,  90,  91,\n",
              "        92,  93,  94,  95,  96,  97,  98,  99, 100])"
            ]
          },
          "metadata": {},
          "execution_count": 15
        }
      ]
    },
    {
      "cell_type": "code",
      "source": [
        "# mostrar información del conjunto de datos\n",
        "datos.info()"
      ],
      "metadata": {
        "colab": {
          "base_uri": "https://localhost:8080/"
        },
        "id": "IkWkIrQqYp6T",
        "outputId": "30e15c90-c210-4a6a-85f9-5cdd23ebc59d"
      },
      "execution_count": null,
      "outputs": [
        {
          "output_type": "stream",
          "name": "stdout",
          "text": [
            "<class 'pandas.core.frame.DataFrame'>\n",
            "RangeIndex: 1000 entries, 0 to 999\n",
            "Data columns (total 4 columns):\n",
            " #   Column             Non-Null Count  Dtype  \n",
            "---  ------             --------------  -----  \n",
            " 0   asegurado_id       1000 non-null   int64  \n",
            " 1   anio               1000 non-null   int64  \n",
            " 2   numero_siniestros  1000 non-null   int64  \n",
            " 3   monto_total        1000 non-null   float64\n",
            "dtypes: float64(1), int64(3)\n",
            "memory usage: 31.4 KB\n"
          ]
        }
      ]
    },
    {
      "cell_type": "code",
      "source": [
        "#mostrar información descriptiva\n",
        "datos.describe()"
      ],
      "metadata": {
        "colab": {
          "base_uri": "https://localhost:8080/",
          "height": 297
        },
        "id": "qqr6bgmBYyaK",
        "outputId": "8925249d-d136-4eb4-c6df-864c427be7af"
      },
      "execution_count": null,
      "outputs": [
        {
          "output_type": "execute_result",
          "data": {
            "text/plain": [
              "       asegurado_id         anio  numero_siniestros    monto_total\n",
              "count   1000.000000  1000.000000        1000.000000    1000.000000\n",
              "mean      50.500000     5.500000           1.480000   30899.644570\n",
              "std       28.880514     2.873719           1.270123   31860.064013\n",
              "min        1.000000     1.000000           0.000000       0.000000\n",
              "25%       25.750000     3.000000           0.000000       0.000000\n",
              "50%       50.500000     5.500000           1.000000   23494.880000\n",
              "75%       75.250000     8.000000           2.000000   47113.050000\n",
              "max      100.000000    10.000000           6.000000  229106.590000"
            ],
            "text/html": [
              "\n",
              "  <div id=\"df-fb4d9906-4883-4b8b-aaa1-9744eb888ad8\" class=\"colab-df-container\">\n",
              "    <div>\n",
              "<style scoped>\n",
              "    .dataframe tbody tr th:only-of-type {\n",
              "        vertical-align: middle;\n",
              "    }\n",
              "\n",
              "    .dataframe tbody tr th {\n",
              "        vertical-align: top;\n",
              "    }\n",
              "\n",
              "    .dataframe thead th {\n",
              "        text-align: right;\n",
              "    }\n",
              "</style>\n",
              "<table border=\"1\" class=\"dataframe\">\n",
              "  <thead>\n",
              "    <tr style=\"text-align: right;\">\n",
              "      <th></th>\n",
              "      <th>asegurado_id</th>\n",
              "      <th>anio</th>\n",
              "      <th>numero_siniestros</th>\n",
              "      <th>monto_total</th>\n",
              "    </tr>\n",
              "  </thead>\n",
              "  <tbody>\n",
              "    <tr>\n",
              "      <th>count</th>\n",
              "      <td>1000.000000</td>\n",
              "      <td>1000.000000</td>\n",
              "      <td>1000.000000</td>\n",
              "      <td>1000.000000</td>\n",
              "    </tr>\n",
              "    <tr>\n",
              "      <th>mean</th>\n",
              "      <td>50.500000</td>\n",
              "      <td>5.500000</td>\n",
              "      <td>1.480000</td>\n",
              "      <td>30899.644570</td>\n",
              "    </tr>\n",
              "    <tr>\n",
              "      <th>std</th>\n",
              "      <td>28.880514</td>\n",
              "      <td>2.873719</td>\n",
              "      <td>1.270123</td>\n",
              "      <td>31860.064013</td>\n",
              "    </tr>\n",
              "    <tr>\n",
              "      <th>min</th>\n",
              "      <td>1.000000</td>\n",
              "      <td>1.000000</td>\n",
              "      <td>0.000000</td>\n",
              "      <td>0.000000</td>\n",
              "    </tr>\n",
              "    <tr>\n",
              "      <th>25%</th>\n",
              "      <td>25.750000</td>\n",
              "      <td>3.000000</td>\n",
              "      <td>0.000000</td>\n",
              "      <td>0.000000</td>\n",
              "    </tr>\n",
              "    <tr>\n",
              "      <th>50%</th>\n",
              "      <td>50.500000</td>\n",
              "      <td>5.500000</td>\n",
              "      <td>1.000000</td>\n",
              "      <td>23494.880000</td>\n",
              "    </tr>\n",
              "    <tr>\n",
              "      <th>75%</th>\n",
              "      <td>75.250000</td>\n",
              "      <td>8.000000</td>\n",
              "      <td>2.000000</td>\n",
              "      <td>47113.050000</td>\n",
              "    </tr>\n",
              "    <tr>\n",
              "      <th>max</th>\n",
              "      <td>100.000000</td>\n",
              "      <td>10.000000</td>\n",
              "      <td>6.000000</td>\n",
              "      <td>229106.590000</td>\n",
              "    </tr>\n",
              "  </tbody>\n",
              "</table>\n",
              "</div>\n",
              "    <div class=\"colab-df-buttons\">\n",
              "\n",
              "  <div class=\"colab-df-container\">\n",
              "    <button class=\"colab-df-convert\" onclick=\"convertToInteractive('df-fb4d9906-4883-4b8b-aaa1-9744eb888ad8')\"\n",
              "            title=\"Convert this dataframe to an interactive table.\"\n",
              "            style=\"display:none;\">\n",
              "\n",
              "  <svg xmlns=\"http://www.w3.org/2000/svg\" height=\"24px\" viewBox=\"0 -960 960 960\">\n",
              "    <path d=\"M120-120v-720h720v720H120Zm60-500h600v-160H180v160Zm220 220h160v-160H400v160Zm0 220h160v-160H400v160ZM180-400h160v-160H180v160Zm440 0h160v-160H620v160ZM180-180h160v-160H180v160Zm440 0h160v-160H620v160Z\"/>\n",
              "  </svg>\n",
              "    </button>\n",
              "\n",
              "  <style>\n",
              "    .colab-df-container {\n",
              "      display:flex;\n",
              "      gap: 12px;\n",
              "    }\n",
              "\n",
              "    .colab-df-convert {\n",
              "      background-color: #E8F0FE;\n",
              "      border: none;\n",
              "      border-radius: 50%;\n",
              "      cursor: pointer;\n",
              "      display: none;\n",
              "      fill: #1967D2;\n",
              "      height: 32px;\n",
              "      padding: 0 0 0 0;\n",
              "      width: 32px;\n",
              "    }\n",
              "\n",
              "    .colab-df-convert:hover {\n",
              "      background-color: #E2EBFA;\n",
              "      box-shadow: 0px 1px 2px rgba(60, 64, 67, 0.3), 0px 1px 3px 1px rgba(60, 64, 67, 0.15);\n",
              "      fill: #174EA6;\n",
              "    }\n",
              "\n",
              "    .colab-df-buttons div {\n",
              "      margin-bottom: 4px;\n",
              "    }\n",
              "\n",
              "    [theme=dark] .colab-df-convert {\n",
              "      background-color: #3B4455;\n",
              "      fill: #D2E3FC;\n",
              "    }\n",
              "\n",
              "    [theme=dark] .colab-df-convert:hover {\n",
              "      background-color: #434B5C;\n",
              "      box-shadow: 0px 1px 3px 1px rgba(0, 0, 0, 0.15);\n",
              "      filter: drop-shadow(0px 1px 2px rgba(0, 0, 0, 0.3));\n",
              "      fill: #FFFFFF;\n",
              "    }\n",
              "  </style>\n",
              "\n",
              "    <script>\n",
              "      const buttonEl =\n",
              "        document.querySelector('#df-fb4d9906-4883-4b8b-aaa1-9744eb888ad8 button.colab-df-convert');\n",
              "      buttonEl.style.display =\n",
              "        google.colab.kernel.accessAllowed ? 'block' : 'none';\n",
              "\n",
              "      async function convertToInteractive(key) {\n",
              "        const element = document.querySelector('#df-fb4d9906-4883-4b8b-aaa1-9744eb888ad8');\n",
              "        const dataTable =\n",
              "          await google.colab.kernel.invokeFunction('convertToInteractive',\n",
              "                                                    [key], {});\n",
              "        if (!dataTable) return;\n",
              "\n",
              "        const docLinkHtml = 'Like what you see? Visit the ' +\n",
              "          '<a target=\"_blank\" href=https://colab.research.google.com/notebooks/data_table.ipynb>data table notebook</a>'\n",
              "          + ' to learn more about interactive tables.';\n",
              "        element.innerHTML = '';\n",
              "        dataTable['output_type'] = 'display_data';\n",
              "        await google.colab.output.renderOutput(dataTable, element);\n",
              "        const docLink = document.createElement('div');\n",
              "        docLink.innerHTML = docLinkHtml;\n",
              "        element.appendChild(docLink);\n",
              "      }\n",
              "    </script>\n",
              "  </div>\n",
              "\n",
              "\n",
              "    <div id=\"df-e8dabc8f-ebca-47c7-bb0e-667e1bb9ec0c\">\n",
              "      <button class=\"colab-df-quickchart\" onclick=\"quickchart('df-e8dabc8f-ebca-47c7-bb0e-667e1bb9ec0c')\"\n",
              "                title=\"Suggest charts\"\n",
              "                style=\"display:none;\">\n",
              "\n",
              "<svg xmlns=\"http://www.w3.org/2000/svg\" height=\"24px\"viewBox=\"0 0 24 24\"\n",
              "     width=\"24px\">\n",
              "    <g>\n",
              "        <path d=\"M19 3H5c-1.1 0-2 .9-2 2v14c0 1.1.9 2 2 2h14c1.1 0 2-.9 2-2V5c0-1.1-.9-2-2-2zM9 17H7v-7h2v7zm4 0h-2V7h2v10zm4 0h-2v-4h2v4z\"/>\n",
              "    </g>\n",
              "</svg>\n",
              "      </button>\n",
              "\n",
              "<style>\n",
              "  .colab-df-quickchart {\n",
              "      --bg-color: #E8F0FE;\n",
              "      --fill-color: #1967D2;\n",
              "      --hover-bg-color: #E2EBFA;\n",
              "      --hover-fill-color: #174EA6;\n",
              "      --disabled-fill-color: #AAA;\n",
              "      --disabled-bg-color: #DDD;\n",
              "  }\n",
              "\n",
              "  [theme=dark] .colab-df-quickchart {\n",
              "      --bg-color: #3B4455;\n",
              "      --fill-color: #D2E3FC;\n",
              "      --hover-bg-color: #434B5C;\n",
              "      --hover-fill-color: #FFFFFF;\n",
              "      --disabled-bg-color: #3B4455;\n",
              "      --disabled-fill-color: #666;\n",
              "  }\n",
              "\n",
              "  .colab-df-quickchart {\n",
              "    background-color: var(--bg-color);\n",
              "    border: none;\n",
              "    border-radius: 50%;\n",
              "    cursor: pointer;\n",
              "    display: none;\n",
              "    fill: var(--fill-color);\n",
              "    height: 32px;\n",
              "    padding: 0;\n",
              "    width: 32px;\n",
              "  }\n",
              "\n",
              "  .colab-df-quickchart:hover {\n",
              "    background-color: var(--hover-bg-color);\n",
              "    box-shadow: 0 1px 2px rgba(60, 64, 67, 0.3), 0 1px 3px 1px rgba(60, 64, 67, 0.15);\n",
              "    fill: var(--button-hover-fill-color);\n",
              "  }\n",
              "\n",
              "  .colab-df-quickchart-complete:disabled,\n",
              "  .colab-df-quickchart-complete:disabled:hover {\n",
              "    background-color: var(--disabled-bg-color);\n",
              "    fill: var(--disabled-fill-color);\n",
              "    box-shadow: none;\n",
              "  }\n",
              "\n",
              "  .colab-df-spinner {\n",
              "    border: 2px solid var(--fill-color);\n",
              "    border-color: transparent;\n",
              "    border-bottom-color: var(--fill-color);\n",
              "    animation:\n",
              "      spin 1s steps(1) infinite;\n",
              "  }\n",
              "\n",
              "  @keyframes spin {\n",
              "    0% {\n",
              "      border-color: transparent;\n",
              "      border-bottom-color: var(--fill-color);\n",
              "      border-left-color: var(--fill-color);\n",
              "    }\n",
              "    20% {\n",
              "      border-color: transparent;\n",
              "      border-left-color: var(--fill-color);\n",
              "      border-top-color: var(--fill-color);\n",
              "    }\n",
              "    30% {\n",
              "      border-color: transparent;\n",
              "      border-left-color: var(--fill-color);\n",
              "      border-top-color: var(--fill-color);\n",
              "      border-right-color: var(--fill-color);\n",
              "    }\n",
              "    40% {\n",
              "      border-color: transparent;\n",
              "      border-right-color: var(--fill-color);\n",
              "      border-top-color: var(--fill-color);\n",
              "    }\n",
              "    60% {\n",
              "      border-color: transparent;\n",
              "      border-right-color: var(--fill-color);\n",
              "    }\n",
              "    80% {\n",
              "      border-color: transparent;\n",
              "      border-right-color: var(--fill-color);\n",
              "      border-bottom-color: var(--fill-color);\n",
              "    }\n",
              "    90% {\n",
              "      border-color: transparent;\n",
              "      border-bottom-color: var(--fill-color);\n",
              "    }\n",
              "  }\n",
              "</style>\n",
              "\n",
              "      <script>\n",
              "        async function quickchart(key) {\n",
              "          const quickchartButtonEl =\n",
              "            document.querySelector('#' + key + ' button');\n",
              "          quickchartButtonEl.disabled = true;  // To prevent multiple clicks.\n",
              "          quickchartButtonEl.classList.add('colab-df-spinner');\n",
              "          try {\n",
              "            const charts = await google.colab.kernel.invokeFunction(\n",
              "                'suggestCharts', [key], {});\n",
              "          } catch (error) {\n",
              "            console.error('Error during call to suggestCharts:', error);\n",
              "          }\n",
              "          quickchartButtonEl.classList.remove('colab-df-spinner');\n",
              "          quickchartButtonEl.classList.add('colab-df-quickchart-complete');\n",
              "        }\n",
              "        (() => {\n",
              "          let quickchartButtonEl =\n",
              "            document.querySelector('#df-e8dabc8f-ebca-47c7-bb0e-667e1bb9ec0c button');\n",
              "          quickchartButtonEl.style.display =\n",
              "            google.colab.kernel.accessAllowed ? 'block' : 'none';\n",
              "        })();\n",
              "      </script>\n",
              "    </div>\n",
              "\n",
              "    </div>\n",
              "  </div>\n"
            ],
            "application/vnd.google.colaboratory.intrinsic+json": {
              "type": "dataframe",
              "summary": "{\n  \"name\": \"datos\",\n  \"rows\": 8,\n  \"fields\": [\n    {\n      \"column\": \"asegurado_id\",\n      \"properties\": {\n        \"dtype\": \"number\",\n        \"std\": 338.1721869456567,\n        \"min\": 1.0,\n        \"max\": 1000.0,\n        \"num_unique_values\": 7,\n        \"samples\": [\n          1000.0,\n          50.5,\n          75.25\n        ],\n        \"semantic_type\": \"\",\n        \"description\": \"\"\n      }\n    },\n    {\n      \"column\": \"anio\",\n      \"properties\": {\n        \"dtype\": \"number\",\n        \"std\": 351.75345732132195,\n        \"min\": 1.0,\n        \"max\": 1000.0,\n        \"num_unique_values\": 7,\n        \"samples\": [\n          1000.0,\n          5.5,\n          8.0\n        ],\n        \"semantic_type\": \"\",\n        \"description\": \"\"\n      }\n    },\n    {\n      \"column\": \"numero_siniestros\",\n      \"properties\": {\n        \"dtype\": \"number\",\n        \"std\": 352.964995150657,\n        \"min\": 0.0,\n        \"max\": 1000.0,\n        \"num_unique_values\": 7,\n        \"samples\": [\n          1000.0,\n          1.48,\n          2.0\n        ],\n        \"semantic_type\": \"\",\n        \"description\": \"\"\n      }\n    },\n    {\n      \"column\": \"monto_total\",\n      \"properties\": {\n        \"dtype\": \"number\",\n        \"std\": 76268.4551960277,\n        \"min\": 0.0,\n        \"max\": 229106.59,\n        \"num_unique_values\": 7,\n        \"samples\": [\n          1000.0,\n          30899.64457,\n          47113.05\n        ],\n        \"semantic_type\": \"\",\n        \"description\": \"\"\n      }\n    }\n  ]\n}"
            }
          },
          "metadata": {},
          "execution_count": 17
        }
      ]
    },
    {
      "cell_type": "code",
      "source": [
        "# Histograma de la distribución del monto de siniestro\n",
        "plt.figure(figsize=(10, 6))\n",
        "plt.hist(datos['monto_total'], bins=50, edgecolor='black')\n",
        "plt.title('Distribución del Monto de Siniestro')\n",
        "plt.xlabel('Monto de Siniestro')\n",
        "plt.ylabel('Frecuencia')\n",
        "plt.grid(axis='y', alpha=0.75)\n",
        "plt.show()"
      ],
      "metadata": {
        "colab": {
          "base_uri": "https://localhost:8080/",
          "height": 448
        },
        "id": "QbKhx1MaZh-A",
        "outputId": "08229783-92fd-48fa-ff25-7a2a34fc9e57"
      },
      "execution_count": null,
      "outputs": [
        {
          "output_type": "display_data",
          "data": {
            "text/plain": [
              "<Figure size 1000x600 with 1 Axes>"
            ],
            "image/png": "[encoded data removed]"
          },
          "metadata": {}
        }
      ]
    },
    {
      "cell_type": "code",
      "source": [
        "# Histograma de la distribución del monto de siniestro\n",
        "plt.figure(figsize=(10, 6))\n",
        "sns.histplot(datos['monto_total'], bins=20, kde=True, color='skyblue')\n",
        "plt.title('Distribución del Monto de Siniestro')\n",
        "plt.xlabel('Monto de Siniestro')\n",
        "plt.ylabel('Frecuencia')\n",
        "plt.show()\n",
        "\n",
        "# Distribución de primas creíbles\n",
        "plt.figure(figsize=(10,6))\n"
      ],
      "metadata": {
        "colab": {
          "base_uri": "https://localhost:8080/",
          "height": 484
        },
        "id": "s_zdnz6tfFcs",
        "outputId": "a5132c9c-e8e7-46a1-e5bf-daf728a6cb4c"
      },
      "execution_count": null,
      "outputs": [
        {
          "output_type": "display_data",
          "data": {
            "text/plain": [
              "<Figure size 1000x600 with 1 Axes>"
            ],
            "image/png": "[encoded data removed]"
          },
          "metadata": {}
        },
        {
          "output_type": "execute_result",
          "data": {
            "text/plain": [
              "<Figure size 1000x600 with 0 Axes>"
            ]
          },
          "metadata": {},
          "execution_count": 19
        },
        {
          "output_type": "display_data",
          "data": {
            "text/plain": [
              "<Figure size 1000x600 with 0 Axes>"
            ]
          },
          "metadata": {}
        }
      ]
    },
    {
      "cell_type": "markdown",
      "source": [
        "- La mayor parte de los datos (la frecuencia más alta) se concentra en los valores más bajos del \"Monto de Siniestro\", y luego la frecuencia disminuye gradualmente a medida que los valores aumentan, formando una \"cola\" que se extiende hacia la derecha.\n",
        "\n",
        "- El pico más alto de la distribución (la moda) se encuentra cerca de cero o en los valores más bajos del monto del siniestro\n",
        "\n",
        "- Los valores más pequeños son los más frecuentes y los valores grandes son raros, como en muchos datos financieros, de ingresos o, en este caso, de montos de siniestros donde la mayoría son pequeños y unos pocos son muy grandes.\n"
      ],
      "metadata": {
        "id": "2LCt4dQvnnTB"
      }
    },
    {
      "cell_type": "code",
      "source": [
        "# Cálculo de la prima Bühlmann\n",
        "\n",
        "# Cálculo de estadísticas necesarias para Bühlmann\n",
        "media_individual = datos.groupby(\"asegurado_id\")[\"monto_total\"].mean()\n",
        "media_global = datos[\"monto_total\"].mean()\n",
        "#varianza dentro de cada grupo S²\n",
        "var_within = datos.groupby(\"asegurado_id\")[\"monto_total\"].var().mean()\n",
        "#varianza entre los grupos a\n",
        "var_between = media_individual.var()\n",
        "\n",
        "# Factor de credibilidad\n",
        "anios = datos.anio.max()\n",
        "n = anios\n",
        "Z = n / (n + var_within / var_between)\n",
        "\n",
        "# Prima creíble\n",
        "prima_cred = Z * media_individual + (1 - Z) * media_global\n",
        "\n",
        "print(\"Prima Bühlmann:\")\n",
        "print(\"Media Individual: \", media_individual)\n",
        "print(\"Media Global: \", media_global)\n",
        "print(\"Varianza Within: \", var_within)\n",
        "print(\"Varianza Between: \", var_between)\n",
        "print(\"Factor Z: \", Z )\n",
        "print(\"Prima:\", prima_cred)"
      ],
      "metadata": {
        "colab": {
          "base_uri": "https://localhost:8080/"
        },
        "id": "tBpuM0ETaCNM",
        "outputId": "28f2a77d-6a94-4252-8537-7af037a905e2"
      },
      "execution_count": null,
      "outputs": [
        {
          "output_type": "stream",
          "name": "stdout",
          "text": [
            "Prima Bühlmann:\n",
            "Media Individual:  asegurado_id\n",
            "1      29309.404\n",
            "2      15338.936\n",
            "3      30693.411\n",
            "4      17424.163\n",
            "5      55847.974\n",
            "         ...    \n",
            "96     32048.739\n",
            "97     34661.496\n",
            "98     19046.148\n",
            "99     16573.597\n",
            "100    56600.976\n",
            "Name: monto_total, Length: 100, dtype: float64\n",
            "Media Global:  30899.64457\n",
            "Varianza Within:  912503804.714126\n",
            "Varianza Between:  194742617.1376623\n",
            "Factor Z:  0.6809349136717565\n",
            "Prima: asegurado_id\n",
            "1      29816.794245\n",
            "2      20303.814823\n",
            "3      30759.212932\n",
            "4      21723.718690\n",
            "5      47887.833117\n",
            "           ...     \n",
            "96     31682.103086\n",
            "97     33461.220549\n",
            "98     22828.184906\n",
            "99     21144.538605\n",
            "100    48400.578469\n",
            "Name: monto_total, Length: 100, dtype: float64\n"
          ]
        }
      ]
    },
    {
      "cell_type": "code",
      "source": [
        "# Distribución de primas creíbles\n",
        "plt.figure(figsize=(10, 6))\n",
        "plt.hist(prima_cred, bins=50, edgecolor='black')\n",
        "plt.title('Distribución de Primas Creíbles (Bühlmann)')\n",
        "plt.xlabel('Prima Creíble')\n",
        "plt.ylabel('Frecuencia')\n",
        "plt.grid(axis='y', alpha=0.75)\n",
        "plt.show()"
      ],
      "metadata": {
        "colab": {
          "base_uri": "https://localhost:8080/",
          "height": 448
        },
        "id": "UNOqYTQUfe7b",
        "outputId": "14036b8c-6b82-458d-c0fc-55380a6e61d5"
      },
      "execution_count": null,
      "outputs": [
        {
          "output_type": "display_data",
          "data": {
            "text/plain": [
              "<Figure size 1000x600 with 1 Axes>"
            ],
            "image/png": "[encoded data removed]"
          },
          "metadata": {}
        }
      ]
    },
    {
      "cell_type": "code",
      "source": [
        "# Consolidar resultados\n",
        "resultado = pd.DataFrame({\n",
        "    'promedio_individual': media_individual,\n",
        "    'prima_credible': prima_cred,\n",
        "    'credibilidad_Z': Z,\n",
        "    'media_global': media_global\n",
        "})\n",
        "resultado.head()"
      ],
      "metadata": {
        "colab": {
          "base_uri": "https://localhost:8080/",
          "height": 255
        },
        "id": "djZhHu7iesSn",
        "outputId": "d5b06342-6168-4ed9-fce2-a3bcda994798"
      },
      "execution_count": null,
      "outputs": [
        {
          "output_type": "execute_result",
          "data": {
            "text/plain": [
              "              promedio_individual  prima_credible  credibilidad_Z  \\\n",
              "asegurado_id                                                        \n",
              "1                       29309.404    29816.794245        0.680935   \n",
              "2                       15338.936    20303.814823        0.680935   \n",
              "3                       30693.411    30759.212932        0.680935   \n",
              "4                       17424.163    21723.718690        0.680935   \n",
              "5                       55847.974    47887.833117        0.680935   \n",
              "\n",
              "              media_global  \n",
              "asegurado_id                \n",
              "1              30899.64457  \n",
              "2              30899.64457  \n",
              "3              30899.64457  \n",
              "4              30899.64457  \n",
              "5              30899.64457  "
            ],
            "text/html": [
              "\n",
              "  <div id=\"df-abc2156c-2212-4fdf-93af-9d2ce054e52f\" class=\"colab-df-container\">\n",
              "    <div>\n",
              "<style scoped>\n",
              "    .dataframe tbody tr th:only-of-type {\n",
              "        vertical-align: middle;\n",
              "    }\n",
              "\n",
              "    .dataframe tbody tr th {\n",
              "        vertical-align: top;\n",
              "    }\n",
              "\n",
              "    .dataframe thead th {\n",
              "        text-align: right;\n",
              "    }\n",
              "</style>\n",
              "<table border=\"1\" class=\"dataframe\">\n",
              "  <thead>\n",
              "    <tr style=\"text-align: right;\">\n",
              "      <th></th>\n",
              "      <th>promedio_individual</th>\n",
              "      <th>prima_credible</th>\n",
              "      <th>credibilidad_Z</th>\n",
              "      <th>media_global</th>\n",
              "    </tr>\n",
              "    <tr>\n",
              "      <th>asegurado_id</th>\n",
              "      <th></th>\n",
              "      <th></th>\n",
              "      <th></th>\n",
              "      <th></th>\n",
              "    </tr>\n",
              "  </thead>\n",
              "  <tbody>\n",
              "    <tr>\n",
              "      <th>1</th>\n",
              "      <td>29309.404</td>\n",
              "      <td>29816.794245</td>\n",
              "      <td>0.680935</td>\n",
              "      <td>30899.64457</td>\n",
              "    </tr>\n",
              "    <tr>\n",
              "      <th>2</th>\n",
              "      <td>15338.936</td>\n",
              "      <td>20303.814823</td>\n",
              "      <td>0.680935</td>\n",
              "      <td>30899.64457</td>\n",
              "    </tr>\n",
              "    <tr>\n",
              "      <th>3</th>\n",
              "      <td>30693.411</td>\n",
              "      <td>30759.212932</td>\n",
              "      <td>0.680935</td>\n",
              "      <td>30899.64457</td>\n",
              "    </tr>\n",
              "    <tr>\n",
              "      <th>4</th>\n",
              "      <td>17424.163</td>\n",
              "      <td>21723.718690</td>\n",
              "      <td>0.680935</td>\n",
              "      <td>30899.64457</td>\n",
              "    </tr>\n",
              "    <tr>\n",
              "      <th>5</th>\n",
              "      <td>55847.974</td>\n",
              "      <td>47887.833117</td>\n",
              "      <td>0.680935</td>\n",
              "      <td>30899.64457</td>\n",
              "    </tr>\n",
              "  </tbody>\n",
              "</table>\n",
              "</div>\n",
              "    <div class=\"colab-df-buttons\">\n",
              "\n",
              "  <div class=\"colab-df-container\">\n",
              "    <button class=\"colab-df-convert\" onclick=\"convertToInteractive('df-abc2156c-2212-4fdf-93af-9d2ce054e52f')\"\n",
              "            title=\"Convert this dataframe to an interactive table.\"\n",
              "            style=\"display:none;\">\n",
              "\n",
              "  <svg xmlns=\"http://www.w3.org/2000/svg\" height=\"24px\" viewBox=\"0 -960 960 960\">\n",
              "    <path d=\"M120-120v-720h720v720H120Zm60-500h600v-160H180v160Zm220 220h160v-160H400v160Zm0 220h160v-160H400v160ZM180-400h160v-160H180v160Zm440 0h160v-160H620v160ZM180-180h160v-160H180v160Zm440 0h160v-160H620v160Z\"/>\n",
              "  </svg>\n",
              "    </button>\n",
              "\n",
              "  <style>\n",
              "    .colab-df-container {\n",
              "      display:flex;\n",
              "      gap: 12px;\n",
              "    }\n",
              "\n",
              "    .colab-df-convert {\n",
              "      background-color: #E8F0FE;\n",
              "      border: none;\n",
              "      border-radius: 50%;\n",
              "      cursor: pointer;\n",
              "      display: none;\n",
              "      fill: #1967D2;\n",
              "      height: 32px;\n",
              "      padding: 0 0 0 0;\n",
              "      width: 32px;\n",
              "    }\n",
              "\n",
              "    .colab-df-convert:hover {\n",
              "      background-color: #E2EBFA;\n",
              "      box-shadow: 0px 1px 2px rgba(60, 64, 67, 0.3), 0px 1px 3px 1px rgba(60, 64, 67, 0.15);\n",
              "      fill: #174EA6;\n",
              "    }\n",
              "\n",
              "    .colab-df-buttons div {\n",
              "      margin-bottom: 4px;\n",
              "    }\n",
              "\n",
              "    [theme=dark] .colab-df-convert {\n",
              "      background-color: #3B4455;\n",
              "      fill: #D2E3FC;\n",
              "    }\n",
              "\n",
              "    [theme=dark] .colab-df-convert:hover {\n",
              "      background-color: #434B5C;\n",
              "      box-shadow: 0px 1px 3px 1px rgba(0, 0, 0, 0.15);\n",
              "      filter: drop-shadow(0px 1px 2px rgba(0, 0, 0, 0.3));\n",
              "      fill: #FFFFFF;\n",
              "    }\n",
              "  </style>\n",
              "\n",
              "    <script>\n",
              "      const buttonEl =\n",
              "        document.querySelector('#df-abc2156c-2212-4fdf-93af-9d2ce054e52f button.colab-df-convert');\n",
              "      buttonEl.style.display =\n",
              "        google.colab.kernel.accessAllowed ? 'block' : 'none';\n",
              "\n",
              "      async function convertToInteractive(key) {\n",
              "        const element = document.querySelector('#df-abc2156c-2212-4fdf-93af-9d2ce054e52f');\n",
              "        const dataTable =\n",
              "          await google.colab.kernel.invokeFunction('convertToInteractive',\n",
              "                                                    [key], {});\n",
              "        if (!dataTable) return;\n",
              "\n",
              "        const docLinkHtml = 'Like what you see? Visit the ' +\n",
              "          '<a target=\"_blank\" href=https://colab.research.google.com/notebooks/data_table.ipynb>data table notebook</a>'\n",
              "          + ' to learn more about interactive tables.';\n",
              "        element.innerHTML = '';\n",
              "        dataTable['output_type'] = 'display_data';\n",
              "        await google.colab.output.renderOutput(dataTable, element);\n",
              "        const docLink = document.createElement('div');\n",
              "        docLink.innerHTML = docLinkHtml;\n",
              "        element.appendChild(docLink);\n",
              "      }\n",
              "    </script>\n",
              "  </div>\n",
              "\n",
              "\n",
              "    <div id=\"df-942d4b6b-c969-48ef-8753-8b8d021a0c4c\">\n",
              "      <button class=\"colab-df-quickchart\" onclick=\"quickchart('df-942d4b6b-c969-48ef-8753-8b8d021a0c4c')\"\n",
              "                title=\"Suggest charts\"\n",
              "                style=\"display:none;\">\n",
              "\n",
              "<svg xmlns=\"http://www.w3.org/2000/svg\" height=\"24px\"viewBox=\"0 0 24 24\"\n",
              "     width=\"24px\">\n",
              "    <g>\n",
              "        <path d=\"M19 3H5c-1.1 0-2 .9-2 2v14c0 1.1.9 2 2 2h14c1.1 0 2-.9 2-2V5c0-1.1-.9-2-2-2zM9 17H7v-7h2v7zm4 0h-2V7h2v10zm4 0h-2v-4h2v4z\"/>\n",
              "    </g>\n",
              "</svg>\n",
              "      </button>\n",
              "\n",
              "<style>\n",
              "  .colab-df-quickchart {\n",
              "      --bg-color: #E8F0FE;\n",
              "      --fill-color: #1967D2;\n",
              "      --hover-bg-color: #E2EBFA;\n",
              "      --hover-fill-color: #174EA6;\n",
              "      --disabled-fill-color: #AAA;\n",
              "      --disabled-bg-color: #DDD;\n",
              "  }\n",
              "\n",
              "  [theme=dark] .colab-df-quickchart {\n",
              "      --bg-color: #3B4455;\n",
              "      --fill-color: #D2E3FC;\n",
              "      --hover-bg-color: #434B5C;\n",
              "      --hover-fill-color: #FFFFFF;\n",
              "      --disabled-bg-color: #3B4455;\n",
              "      --disabled-fill-color: #666;\n",
              "  }\n",
              "\n",
              "  .colab-df-quickchart {\n",
              "    background-color: var(--bg-color);\n",
              "    border: none;\n",
              "    border-radius: 50%;\n",
              "    cursor: pointer;\n",
              "    display: none;\n",
              "    fill: var(--fill-color);\n",
              "    height: 32px;\n",
              "    padding: 0;\n",
              "    width: 32px;\n",
              "  }\n",
              "\n",
              "  .colab-df-quickchart:hover {\n",
              "    background-color: var(--hover-bg-color);\n",
              "    box-shadow: 0 1px 2px rgba(60, 64, 67, 0.3), 0 1px 3px 1px rgba(60, 64, 67, 0.15);\n",
              "    fill: var(--button-hover-fill-color);\n",
              "  }\n",
              "\n",
              "  .colab-df-quickchart-complete:disabled,\n",
              "  .colab-df-quickchart-complete:disabled:hover {\n",
              "    background-color: var(--disabled-bg-color);\n",
              "    fill: var(--disabled-fill-color);\n",
              "    box-shadow: none;\n",
              "  }\n",
              "\n",
              "  .colab-df-spinner {\n",
              "    border: 2px solid var(--fill-color);\n",
              "    border-color: transparent;\n",
              "    border-bottom-color: var(--fill-color);\n",
              "    animation:\n",
              "      spin 1s steps(1) infinite;\n",
              "  }\n",
              "\n",
              "  @keyframes spin {\n",
              "    0% {\n",
              "      border-color: transparent;\n",
              "      border-bottom-color: var(--fill-color);\n",
              "      border-left-color: var(--fill-color);\n",
              "    }\n",
              "    20% {\n",
              "      border-color: transparent;\n",
              "      border-left-color: var(--fill-color);\n",
              "      border-top-color: var(--fill-color);\n",
              "    }\n",
              "    30% {\n",
              "      border-color: transparent;\n",
              "      border-left-color: var(--fill-color);\n",
              "      border-top-color: var(--fill-color);\n",
              "      border-right-color: var(--fill-color);\n",
              "    }\n",
              "    40% {\n",
              "      border-color: transparent;\n",
              "      border-right-color: var(--fill-color);\n",
              "      border-top-color: var(--fill-color);\n",
              "    }\n",
              "    60% {\n",
              "      border-color: transparent;\n",
              "      border-right-color: var(--fill-color);\n",
              "    }\n",
              "    80% {\n",
              "      border-color: transparent;\n",
              "      border-right-color: var(--fill-color);\n",
              "      border-bottom-color: var(--fill-color);\n",
              "    }\n",
              "    90% {\n",
              "      border-color: transparent;\n",
              "      border-bottom-color: var(--fill-color);\n",
              "    }\n",
              "  }\n",
              "</style>\n",
              "\n",
              "      <script>\n",
              "        async function quickchart(key) {\n",
              "          const quickchartButtonEl =\n",
              "            document.querySelector('#' + key + ' button');\n",
              "          quickchartButtonEl.disabled = true;  // To prevent multiple clicks.\n",
              "          quickchartButtonEl.classList.add('colab-df-spinner');\n",
              "          try {\n",
              "            const charts = await google.colab.kernel.invokeFunction(\n",
              "                'suggestCharts', [key], {});\n",
              "          } catch (error) {\n",
              "            console.error('Error during call to suggestCharts:', error);\n",
              "          }\n",
              "          quickchartButtonEl.classList.remove('colab-df-spinner');\n",
              "          quickchartButtonEl.classList.add('colab-df-quickchart-complete');\n",
              "        }\n",
              "        (() => {\n",
              "          let quickchartButtonEl =\n",
              "            document.querySelector('#df-942d4b6b-c969-48ef-8753-8b8d021a0c4c button');\n",
              "          quickchartButtonEl.style.display =\n",
              "            google.colab.kernel.accessAllowed ? 'block' : 'none';\n",
              "        })();\n",
              "      </script>\n",
              "    </div>\n",
              "\n",
              "    </div>\n",
              "  </div>\n"
            ],
            "application/vnd.google.colaboratory.intrinsic+json": {
              "type": "dataframe",
              "variable_name": "resultado",
              "summary": "{\n  \"name\": \"resultado\",\n  \"rows\": 100,\n  \"fields\": [\n    {\n      \"column\": \"asegurado_id\",\n      \"properties\": {\n        \"dtype\": \"number\",\n        \"std\": 29,\n        \"min\": 1,\n        \"max\": 100,\n        \"num_unique_values\": 100,\n        \"samples\": [\n          84,\n          54,\n          71\n        ],\n        \"semantic_type\": \"\",\n        \"description\": \"\"\n      }\n    },\n    {\n      \"column\": \"promedio_individual\",\n      \"properties\": {\n        \"dtype\": \"number\",\n        \"std\": 13955.021215951709,\n        \"min\": 2552.706,\n        \"max\": 70699.316,\n        \"num_unique_values\": 100,\n        \"samples\": [\n          7970.134,\n          12842.714,\n          70699.316\n        ],\n        \"semantic_type\": \"\",\n        \"description\": \"\"\n      }\n    },\n    {\n      \"column\": \"prima_credible\",\n      \"properties\": {\n        \"dtype\": \"number\",\n        \"std\": 9502.461166971609,\n        \"min\": 11597.224401978467,\n        \"max\": 58000.63039935133,\n        \"num_unique_values\": 100,\n        \"samples\": [\n          15286.140269481422,\n          18604.05011114015,\n          58000.63039935133\n        ],\n        \"semantic_type\": \"\",\n        \"description\": \"\"\n      }\n    },\n    {\n      \"column\": \"credibilidad_Z\",\n      \"properties\": {\n        \"dtype\": \"number\",\n        \"std\": 2.2316322462394835e-16,\n        \"min\": 0.6809349136717565,\n        \"max\": 0.6809349136717565,\n        \"num_unique_values\": 1,\n        \"samples\": [\n          0.6809349136717565\n        ],\n        \"semantic_type\": \"\",\n        \"description\": \"\"\n      }\n    },\n    {\n      \"column\": \"media_global\",\n      \"properties\": {\n        \"dtype\": \"number\",\n        \"std\": 0.0,\n        \"min\": 30899.64457,\n        \"max\": 30899.64457,\n        \"num_unique_values\": 1,\n        \"samples\": [\n          30899.64457\n        ],\n        \"semantic_type\": \"\",\n        \"description\": \"\"\n      }\n    }\n  ]\n}"
            }
          },
          "metadata": {},
          "execution_count": 22
        }
      ]
    },
    {
      "cell_type": "code",
      "source": [
        "# Distribución de primas creíbles\n",
        "plt.figure(figsize=(10,6))\n",
        "sns.histplot(resultado['prima_credible'], bins=20, kde=True, color='skyblue')\n",
        "plt.title('Distribución de Primas Creíbles')\n",
        "plt.xlabel('Prima Creíble')\n",
        "plt.ylabel('Frecuencia')\n",
        "plt.show()"
      ],
      "metadata": {
        "colab": {
          "base_uri": "https://localhost:8080/",
          "height": 443
        },
        "id": "BYJTwl8ye1JQ",
        "outputId": "84236ad8-f855-4c6f-ab96-39fd142d7575"
      },
      "execution_count": null,
      "outputs": [
        {
          "output_type": "display_data",
          "data": {
            "text/plain": [
              "<Figure size 1000x600 with 1 Axes>"
            ],
            "image/png": "[encoded data removed]"
          },
          "metadata": {}
        }
      ]
    },
    {
      "cell_type": "markdown",
      "source": [
        "**Distribución normal o gaussiana**\n",
        "\n",
        "- Concentración central: La mayoría de las \"Primas Creíbles\" se agrupan alrededor de un valor central (aproximadamente entre 25,000 y 30,000), con frecuencias que disminuyen a medida que te alejas de este centro en ambas direcciones.\n",
        "\n",
        "- Cierta asimetría: Aunque la forma general es de campana, si se mira de cerca, la distribución parece tener una cola ligeramente más larga hacia la derecha, o quizás una pequeña protuberancia a la izquierda alrededor de los 17,500. Sin embargo, no es tan pronunciada como para clasificarla puramente como sesgada.\n",
        "\n",
        "- Posible bimodalidad leve: Podría interpretarse que hay dos picos menos definidos, uno alrededor de 17,500 y otro más prominente alrededor de 27,500. Sin embargo, el pico principal es bastante dominante.\n",
        "\n"
      ],
      "metadata": {
        "id": "TttNc2n6oGPi"
      }
    },
    {
      "cell_type": "code",
      "source": [
        "# Comparación de promedio individual vs prima creíble\n",
        "plt.figure(figsize=(10,6))\n",
        "plt.scatter(resultado['promedio_individual'], resultado['prima_credible'], alpha=0.7)\n",
        "plt.plot([resultado['promedio_individual'].min(), resultado['promedio_individual'].max()],\n",
        "         [resultado['promedio_individual'].min(), resultado['promedio_individual'].max()],\n",
        "         'r--', label='Línea de igualdad')\n",
        "plt.title('Promedio Individual vs Prima Creíble')\n",
        "plt.xlabel('Promedio Individual (X̄ᵢ)')\n",
        "plt.ylabel('Prima Creíble')\n",
        "plt.legend()\n",
        "plt.grid(True)\n",
        "plt.show()"
      ],
      "metadata": {
        "colab": {
          "base_uri": "https://localhost:8080/",
          "height": 439
        },
        "id": "rq8SdhHMfiUi",
        "outputId": "ad473572-7159-4847-d699-36bfec7ca0ed"
      },
      "execution_count": null,
      "outputs": [
        {
          "output_type": "display_data",
          "data": {
            "text/plain": [
              "<Figure size 1000x600 with 1 Axes>"
            ],
            "image/png": "[encoded data removed]"
          },
          "metadata": {}
        }
      ]
    },
    {
      "cell_type": "markdown",
      "source": [
        "**Promedio Individual vs Prima Creíble**\n",
        "\n",
        "- Puntos Azules: Cada punto representa una entidad (un asegurado o grupo) y su combinación de \"Promedio Individual\" y la \"Prima Creíble\" resultante.\n",
        "\n",
        "- Línea Roja Discontinua (\"Línea de igualdad\"): Esta línea representa el escenario donde la \"Prima Creíble\" sería exactamente igual al \"Promedio Individual\" (Y=X). Esto ocurriría si el factor de credibilidad (Z) fuera 1 para todos los puntos, lo que significaría que se le da credibilidad total a la experiencia individual\n",
        "\n",
        "- Cerca de la Línea de Igualdad en el Centro: Para valores intermedios del \"Promedio Individual\" (aproximadamente entre 20,000 y 40,000), los puntos azules están muy cerca de la línea de igualdad. Esto sugiere que para estos riesgos con experiencia individual \"promedio\" o con suficiente volumen de datos, el factor de credibilidad (Z) es alto, y la \"Prima Creíble\" se basa en gran medida en su propio \"Promedio Individual\". Tienen una alta \"credibilidad\".\n",
        "\n",
        "**Desviación**\n",
        "\n",
        "- Para \"Promedios Individuales\" bajos (izquierda): Los puntos azules están por encima de la línea de igualdad. Esto significa que la \"Prima Creíble\" es mayor que el \"Promedio Individual\". ¿Por qué? Porque para riesgos con muy pocos o ningún siniestro (Promedio Individual bajo), el modelo de Bühlmann les asigna una credibilidad Z baja y les \"empuja\" la prima hacia el promedio colectivo (PColectiva), que presumiblemente es más alto que su experiencia individual observada. Esto es para evitar primas irrealmente bajas basadas en poca experiencia.\n",
        "\n",
        "- Para \"Promedios Individuales\" altos (derecha): Los puntos azules están por debajo de la línea de igualdad. Esto significa que la \"Prima Creíble\" es menor que el \"Promedio Individual\". ¿Por qué? Para riesgos que han tenido siniestros muy altos (Promedio Individual alto), el modelo también les asigna una credibilidad Z menor (asumiendo que estos picos son desviaciones extremas de lo esperado o que la experiencia individual no es lo suficientemente robusta para justificar una prima tan alta basada solo en su propia historia). La prima se \"acerca\" al promedio colectivo, que es más bajo que su experiencia individual extrema. Esto suaviza las primas para evitar que sean excesivamente altas por eventos atípicos.\n"
      ],
      "metadata": {
        "id": "g2_7TxJDpgLi"
      }
    },
    {
      "cell_type": "markdown",
      "source": [
        "## 📘  Interpretación de los Resultados"
      ],
      "metadata": {
        "id": "HW5HIEAZhFbx"
      }
    },
    {
      "cell_type": "markdown",
      "source": [
        "**1. Valor del factor de credibilidad (Z):**\n",
        "- Un valor de Z cercano a 1 indica alta confianza en la experiencia individual.\n",
        "- Un valor cercano a 0 indica poca confianza y mayor dependencia del promedio colectivo.\n",
        "\n",
        "**2. Primas creíbles vs promedio individual:**\n",
        "- Si el promedio individual difiere mucho del promedio colectivo, la prima creíble tiende hacia el centro (suaviza extremos).\n",
        "- Este efecto estabiliza las primas en portafolios pequeños o con alta varianza interna.\n",
        "\n",
        "**3. Aplicación práctica:**\n",
        "- Útil para renovación de pólizas: premiar o penalizar asegurados en función de su historial, sin sobre-reaccionar a variabilidad aleatoria.\n",
        "- Establece primas más estables y justas desde una perspectiva de experiencia estadística."
      ],
      "metadata": {
        "id": "5Lh5GLijhHSk"
      }
    },
    {
      "cell_type": "markdown",
      "source": [
        "## 📊 Sensibilidad del Modelo de Bühlmann\n"
      ],
      "metadata": {
        "id": "NJOyPrtEidn7"
      }
    },
    {
      "cell_type": "markdown",
      "source": [
        "**1. Varianza dentro de grupos (S²):**\n",
        "- A mayor S², menor credibilidad (Z ↓): se asume mayor ruido en la experiencia individual.\n",
        "- Suele aumentar si hay alta dispersión de siniestros año con año.\n",
        "\n",
        "**2. Varianza entre grupos (a):**\n",
        "- A mayor 'a', mayor Z: se detecta diferencia real entre perfiles de riesgo.\n",
        "- Indica heterogeneidad entre asegurados.\n",
        "\n",
        "**3. Número de observaciones (n):**\n",
        "- Si se incrementan los años observados, Z aumenta.\n",
        "- Esto refleja mayor confianza en los promedios individuales con más información disponible.\n",
        "\n",
        "**4. Influencia del parámetro beta en Gamma:**\n",
        "- Cambios en la escala de los montos afectan la varianza total, alterando S² y a, y por lo tanto Z.\n",
        "- Esto es clave en el diseño de productos con deducibles, topes o segmentación tarifaria."
      ],
      "metadata": {
        "id": "sqigON_EiiX0"
      }
    }
  ]
}