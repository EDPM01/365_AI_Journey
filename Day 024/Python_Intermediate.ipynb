{
  "nbformat": 4,
  "nbformat_minor": 0,
  "metadata": {
    "colab": {
      "provenance": [],
      "toc_visible": true
    },
    "kernelspec": {
      "name": "python3",
      "display_name": "Python 3"
    },
    "language_info": {
      "name": "python"
    }
  },
  "cells": [
    {
      "cell_type": "markdown",
      "source": [
        "# Python Course Intermediate"
      ],
      "metadata": {
        "id": "Bw7f2Er5QaC7"
      }
    },
    {
      "cell_type": "markdown",
      "source": [
        "- Name:\n",
        "- Course:\n",
        "- Date:"
      ],
      "metadata": {
        "id": "t9GE57i5diKJ"
      }
    },
    {
      "cell_type": "markdown",
      "source": [
        "## Comparison Operators\n"
      ],
      "metadata": {
        "id": "umx-EBZn9z5C"
      }
    },
    {
      "cell_type": "code",
      "source": [
        "stock_close = 50\n",
        "\n",
        "if stock_close >= 30:\n",
        "\tprint(\"Buy Stock\")"
      ],
      "metadata": {
        "colab": {
          "base_uri": "https://localhost:8080/"
        },
        "id": "Ebqg_JAR90Uf",
        "outputId": "33e9a395-7c8b-4ee3-f362-2ea0fef9eca5"
      },
      "execution_count": 2,
      "outputs": [
        {
          "output_type": "stream",
          "name": "stdout",
          "text": [
            "Buy Stock\n"
          ]
        }
      ]
    },
    {
      "cell_type": "code",
      "source": [
        "if True:\n",
        "\tprint(\"Is true value\")"
      ],
      "metadata": {
        "colab": {
          "base_uri": "https://localhost:8080/"
        },
        "id": "991fxaOo94Yo",
        "outputId": "3256fb42-5ca3-4246-b524-725a8b6151c4"
      },
      "execution_count": 3,
      "outputs": [
        {
          "output_type": "stream",
          "name": "stdout",
          "text": [
            "Is true value\n"
          ]
        }
      ]
    },
    {
      "cell_type": "code",
      "source": [
        "30 > 10"
      ],
      "metadata": {
        "colab": {
          "base_uri": "https://localhost:8080/"
        },
        "id": "7EKhK84W96PK",
        "outputId": "5530854e-f751-4707-a137-179009c096db"
      },
      "execution_count": 4,
      "outputs": [
        {
          "output_type": "execute_result",
          "data": {
            "text/plain": [
              "True"
            ]
          },
          "metadata": {},
          "execution_count": 4
        }
      ]
    },
    {
      "cell_type": "code",
      "source": [
        "30 > 50"
      ],
      "metadata": {
        "colab": {
          "base_uri": "https://localhost:8080/"
        },
        "id": "OCsK818D98CU",
        "outputId": "75641bb6-7cad-43eb-9c0d-e4aaac8d79df"
      },
      "execution_count": 5,
      "outputs": [
        {
          "output_type": "execute_result",
          "data": {
            "text/plain": [
              "False"
            ]
          },
          "metadata": {},
          "execution_count": 5
        }
      ]
    },
    {
      "cell_type": "code",
      "source": [
        "stock_close = 50\n",
        "\n",
        "stock_close == 50"
      ],
      "metadata": {
        "colab": {
          "base_uri": "https://localhost:8080/"
        },
        "id": "1k8q-ntT997E",
        "outputId": "275da5c7-80f2-47e1-b643-6435ca30fcee"
      },
      "execution_count": 6,
      "outputs": [
        {
          "output_type": "execute_result",
          "data": {
            "text/plain": [
              "True"
            ]
          },
          "metadata": {},
          "execution_count": 6
        }
      ]
    },
    {
      "cell_type": "code",
      "source": [
        "stock_close <= 100"
      ],
      "metadata": {
        "colab": {
          "base_uri": "https://localhost:8080/"
        },
        "id": "H6_zPFQr-BGO",
        "outputId": "d9b4a690-24d3-4040-b9e7-3f6f5b2b05a5"
      },
      "execution_count": 8,
      "outputs": [
        {
          "output_type": "execute_result",
          "data": {
            "text/plain": [
              "True"
            ]
          },
          "metadata": {},
          "execution_count": 8
        }
      ]
    },
    {
      "cell_type": "code",
      "source": [
        "stock_close <= 10"
      ],
      "metadata": {
        "colab": {
          "base_uri": "https://localhost:8080/"
        },
        "id": "XwtAt4tK-DRP",
        "outputId": "32c2aade-2ae2-4a4b-c3a4-d63bcad11069"
      },
      "execution_count": 10,
      "outputs": [
        {
          "output_type": "execute_result",
          "data": {
            "text/plain": [
              "False"
            ]
          },
          "metadata": {},
          "execution_count": 10
        }
      ]
    },
    {
      "cell_type": "code",
      "source": [
        "'APPL' == 'APPL'"
      ],
      "metadata": {
        "colab": {
          "base_uri": "https://localhost:8080/"
        },
        "id": "-Vw8mHV5-GgW",
        "outputId": "4adee26b-7524-4aea-e677-c0f1c8e8c544"
      },
      "execution_count": 11,
      "outputs": [
        {
          "output_type": "execute_result",
          "data": {
            "text/plain": [
              "True"
            ]
          },
          "metadata": {},
          "execution_count": 11
        }
      ]
    },
    {
      "cell_type": "code",
      "source": [
        "'APPL' == 'APPLE'"
      ],
      "metadata": {
        "colab": {
          "base_uri": "https://localhost:8080/"
        },
        "id": "GO0gUji--IST",
        "outputId": "e3e4c30e-ec63-4496-f92c-bb573e575b64"
      },
      "execution_count": 12,
      "outputs": [
        {
          "output_type": "execute_result",
          "data": {
            "text/plain": [
              "False"
            ]
          },
          "metadata": {},
          "execution_count": 12
        }
      ]
    },
    {
      "cell_type": "code",
      "source": [
        "'APPL' != 'APPLE'"
      ],
      "metadata": {
        "colab": {
          "base_uri": "https://localhost:8080/"
        },
        "id": "9GAC2SVT-KGs",
        "outputId": "32e4bb27-08d0-449b-b4fb-9f6ed393366d"
      },
      "execution_count": 13,
      "outputs": [
        {
          "output_type": "execute_result",
          "data": {
            "text/plain": [
              "True"
            ]
          },
          "metadata": {},
          "execution_count": 13
        }
      ]
    },
    {
      "cell_type": "code",
      "source": [
        "stock = input('Stock ?:')\n",
        "\n",
        "if stock == 'APPL':\n",
        "\tprint(\"Your stock is APPL\")"
      ],
      "metadata": {
        "colab": {
          "base_uri": "https://localhost:8080/"
        },
        "id": "O-ku36he-MAx",
        "outputId": "6ce18427-9bba-4889-9df5-980e9d5b5c60"
      },
      "execution_count": 15,
      "outputs": [
        {
          "output_type": "stream",
          "name": "stdout",
          "text": [
            "Stock ?:APPL\n",
            "Your stock is APPL\n"
          ]
        }
      ]
    },
    {
      "cell_type": "markdown",
      "source": [
        "## Comparison Shortcuts\n"
      ],
      "metadata": {
        "id": "xdCSZ8-D-R2E"
      }
    },
    {
      "cell_type": "code",
      "source": [
        "stock = \"APPL\"\n",
        "\n",
        "if stock:\n",
        "\tprint (\"Buy Apple\")"
      ],
      "metadata": {
        "colab": {
          "base_uri": "https://localhost:8080/"
        },
        "id": "nRrU3NbT-TdL",
        "outputId": "4c11dc88-621f-4517-caf6-43e3a9bcd9d1"
      },
      "execution_count": 16,
      "outputs": [
        {
          "output_type": "stream",
          "name": "stdout",
          "text": [
            "Buy Apple\n"
          ]
        }
      ]
    },
    {
      "cell_type": "code",
      "source": [
        "if not stock:\n",
        "\tprint(\"Buy AMZN\")"
      ],
      "metadata": {
        "id": "TVISb4L--VrQ"
      },
      "execution_count": 18,
      "outputs": []
    },
    {
      "cell_type": "code",
      "source": [
        "stocks = []\n",
        "\n",
        "if stocks:\n",
        "\tprint(\"Buy this stocks: \", len(stocks))"
      ],
      "metadata": {
        "id": "RnjAKr9x-eB_"
      },
      "execution_count": 19,
      "outputs": []
    },
    {
      "cell_type": "code",
      "source": [
        "if not stocks:\n",
        "\tprint(\"Not stocks\")\n"
      ],
      "metadata": {
        "colab": {
          "base_uri": "https://localhost:8080/"
        },
        "id": "mAmNeMkZ-gGK",
        "outputId": "41884449-4623-4b41-ad46-108014676188"
      },
      "execution_count": 20,
      "outputs": [
        {
          "output_type": "stream",
          "name": "stdout",
          "text": [
            "Not stocks\n"
          ]
        }
      ]
    },
    {
      "cell_type": "code",
      "source": [
        "stocks = [\"AAPL\", \"AMZN\"]\n",
        "if stocks:\n",
        "\tprint(\"Buy this stocks: \", len(stocks))\n"
      ],
      "metadata": {
        "colab": {
          "base_uri": "https://localhost:8080/"
        },
        "id": "D7pzHn1--gwr",
        "outputId": "9066994f-dc0e-46db-c2ff-5fe323a643a2"
      },
      "execution_count": 21,
      "outputs": [
        {
          "output_type": "stream",
          "name": "stdout",
          "text": [
            "Buy this stocks:  2\n"
          ]
        }
      ]
    },
    {
      "cell_type": "code",
      "source": [
        "stock1 = \"AAPL\"\n",
        "stock2 = \"AAPL\"\n",
        "\n",
        "if stock1 == stock2:\n",
        "\tprint (\"Buy Apple\")\n"
      ],
      "metadata": {
        "colab": {
          "base_uri": "https://localhost:8080/"
        },
        "id": "v2A_A0K6-irS",
        "outputId": "09a6ebd4-e274-4411-a777-38d89177d413"
      },
      "execution_count": 22,
      "outputs": [
        {
          "output_type": "stream",
          "name": "stdout",
          "text": [
            "Buy Apple\n"
          ]
        }
      ]
    },
    {
      "cell_type": "markdown",
      "source": [
        "## Multiple Comparison Operators\n"
      ],
      "metadata": {
        "id": "v4qdLeFG-k18"
      }
    },
    {
      "cell_type": "code",
      "source": [
        "stock = \"AAPL\"\n",
        "close = \"+100\"\n",
        "\n",
        "if stock == \"AAPL\":\n",
        "\tif close == \"+100\":\n",
        "\t\tprint (\"Buy Apple\")\n"
      ],
      "metadata": {
        "colab": {
          "base_uri": "https://localhost:8080/"
        },
        "id": "s5fqxz_5-mja",
        "outputId": "30a4fb77-136b-440e-c46e-97d0f63439bb"
      },
      "execution_count": 23,
      "outputs": [
        {
          "output_type": "stream",
          "name": "stdout",
          "text": [
            "Buy Apple\n"
          ]
        }
      ]
    },
    {
      "cell_type": "code",
      "source": [
        "if (stock == \"AAPL\" and close == \"+100\"):\n",
        "\tprint (\"Buy Apple\")"
      ],
      "metadata": {
        "colab": {
          "base_uri": "https://localhost:8080/"
        },
        "id": "vLelEY9d-o0J",
        "outputId": "458d918b-0b00-4a97-9aea-3b5514894b31"
      },
      "execution_count": 29,
      "outputs": [
        {
          "output_type": "stream",
          "name": "stdout",
          "text": [
            "Buy Apple\n"
          ]
        }
      ]
    },
    {
      "cell_type": "code",
      "source": [
        "stock = \"AAPL\"\n",
        "close = \"+50\"\n",
        "\n",
        "if stock == \"AAPL\" or close == \"+100\":\n",
        "\tprint (\"Buy Apple\")\n"
      ],
      "metadata": {
        "colab": {
          "base_uri": "https://localhost:8080/"
        },
        "id": "gCT2BV9n_A4l",
        "outputId": "07949b18-60d1-4c98-f272-8b1f4583c3ed"
      },
      "execution_count": 31,
      "outputs": [
        {
          "output_type": "stream",
          "name": "stdout",
          "text": [
            "Buy Apple\n"
          ]
        }
      ]
    },
    {
      "cell_type": "markdown",
      "source": [
        "## Chaining Operators Together\n"
      ],
      "metadata": {
        "id": "nCk6ycJ7_D3p"
      }
    },
    {
      "cell_type": "code",
      "source": [
        "stock = \"AAPL\"\n",
        "\n",
        "if stock == \"AAPL\":\n",
        "\tprint(\"Buy APPLE\")\n",
        "\n",
        "if stock == \"AMZN\":\n",
        "\tprint(\"Buy AMAZON\")\n",
        "\n",
        "if stock == \"GOOG\":\n",
        "\tprint(\"Buy GOOGLE\")\n"
      ],
      "metadata": {
        "colab": {
          "base_uri": "https://localhost:8080/"
        },
        "id": "kStpW-9U_GXq",
        "outputId": "5c5ed121-f66c-42c3-a6be-ca54884e8e1b"
      },
      "execution_count": 32,
      "outputs": [
        {
          "output_type": "stream",
          "name": "stdout",
          "text": [
            "Buy APPLE\n"
          ]
        }
      ]
    },
    {
      "cell_type": "code",
      "source": [
        "stock = \"GOOG\"\n",
        "if stock == \"AAPL\":\n",
        "\tprint(\"Buy APPLE\")\n",
        "elif stock == \"AMZN\":\n",
        "\tprint(\"Buy AMAZON\")\n",
        "elif stock == \"GOOG\":\n",
        "\tprint(\"Buy GOOGLE\")\n",
        "else:\n",
        "\tprint(f\"The stock is {stock}\")\n"
      ],
      "metadata": {
        "colab": {
          "base_uri": "https://localhost:8080/"
        },
        "id": "tR3o2W3U_JzY",
        "outputId": "f4e711eb-481d-47fa-938f-a3c22e282954"
      },
      "execution_count": 35,
      "outputs": [
        {
          "output_type": "stream",
          "name": "stdout",
          "text": [
            "Buy GOOGLE\n"
          ]
        }
      ]
    },
    {
      "cell_type": "code",
      "source": [
        "close = 100\n",
        "\n",
        "if close < 100:\n",
        "\tprint(\"Not Buy\")\n",
        "else:\n",
        "\tprint(\"Buy\")\n"
      ],
      "metadata": {
        "colab": {
          "base_uri": "https://localhost:8080/"
        },
        "id": "Z7DpAI0R_Z_W",
        "outputId": "d79a816d-cf51-4d17-b261-f5c3d2df6f07"
      },
      "execution_count": 36,
      "outputs": [
        {
          "output_type": "stream",
          "name": "stdout",
          "text": [
            "Buy\n"
          ]
        }
      ]
    },
    {
      "cell_type": "markdown",
      "source": [
        "## Introduction to Loops\n"
      ],
      "metadata": {
        "id": "Fu9qehnz_csz"
      }
    },
    {
      "cell_type": "code",
      "source": [
        "word = list(\"APPLE\")\n",
        "\n",
        "for letter in word:\n",
        "\tprint(letter)\n"
      ],
      "metadata": {
        "colab": {
          "base_uri": "https://localhost:8080/"
        },
        "id": "ldbY1rPW_eOB",
        "outputId": "97fdae97-d448-41cd-a9f5-5c7e7abed963"
      },
      "execution_count": 37,
      "outputs": [
        {
          "output_type": "stream",
          "name": "stdout",
          "text": [
            "A\n",
            "P\n",
            "P\n",
            "L\n",
            "E\n"
          ]
        }
      ]
    },
    {
      "cell_type": "code",
      "source": [
        "num = 1\n",
        "while num <= 100:\n",
        "\tprint(num)\n",
        "\tnum = num +1"
      ],
      "metadata": {
        "colab": {
          "base_uri": "https://localhost:8080/"
        },
        "id": "RO32os_d_gn_",
        "outputId": "6c58abd6-b4c6-49ad-bd68-f06b78cc80a6"
      },
      "execution_count": 38,
      "outputs": [
        {
          "output_type": "stream",
          "name": "stdout",
          "text": [
            "1\n",
            "2\n",
            "3\n",
            "4\n",
            "5\n",
            "6\n",
            "7\n",
            "8\n",
            "9\n",
            "10\n",
            "11\n",
            "12\n",
            "13\n",
            "14\n",
            "15\n",
            "16\n",
            "17\n",
            "18\n",
            "19\n",
            "20\n",
            "21\n",
            "22\n",
            "23\n",
            "24\n",
            "25\n",
            "26\n",
            "27\n",
            "28\n",
            "29\n",
            "30\n",
            "31\n",
            "32\n",
            "33\n",
            "34\n",
            "35\n",
            "36\n",
            "37\n",
            "38\n",
            "39\n",
            "40\n",
            "41\n",
            "42\n",
            "43\n",
            "44\n",
            "45\n",
            "46\n",
            "47\n",
            "48\n",
            "49\n",
            "50\n",
            "51\n",
            "52\n",
            "53\n",
            "54\n",
            "55\n",
            "56\n",
            "57\n",
            "58\n",
            "59\n",
            "60\n",
            "61\n",
            "62\n",
            "63\n",
            "64\n",
            "65\n",
            "66\n",
            "67\n",
            "68\n",
            "69\n",
            "70\n",
            "71\n",
            "72\n",
            "73\n",
            "74\n",
            "75\n",
            "76\n",
            "77\n",
            "78\n",
            "79\n",
            "80\n",
            "81\n",
            "82\n",
            "83\n",
            "84\n",
            "85\n",
            "86\n",
            "87\n",
            "88\n",
            "89\n",
            "90\n",
            "91\n",
            "92\n",
            "93\n",
            "94\n",
            "95\n",
            "96\n",
            "97\n",
            "98\n",
            "99\n",
            "100\n"
          ]
        }
      ]
    },
    {
      "cell_type": "markdown",
      "source": [
        "## For Loops\n"
      ],
      "metadata": {
        "id": "9i9DVknI_k6V"
      }
    },
    {
      "cell_type": "code",
      "source": [
        "stocks = [\"AAPL\",\"AMZN\",\"GOOG\"]\n",
        "\n",
        "for stock in stocks:\n",
        "\tprint(stock)\n"
      ],
      "metadata": {
        "colab": {
          "base_uri": "https://localhost:8080/"
        },
        "id": "eQZ2LOcR_jd_",
        "outputId": "e851214c-26d3-4466-f650-4dfa20189c30"
      },
      "execution_count": 39,
      "outputs": [
        {
          "output_type": "stream",
          "name": "stdout",
          "text": [
            "AAPL\n",
            "AMZN\n",
            "GOOG\n"
          ]
        }
      ]
    },
    {
      "cell_type": "code",
      "source": [
        "stocks = {}\n",
        "\n",
        "for stock in stocks:\n",
        "\tprint(\" Buy Stock: \", stock)"
      ],
      "metadata": {
        "id": "vsaXi6Ti_pO1"
      },
      "execution_count": 40,
      "outputs": []
    },
    {
      "cell_type": "code",
      "source": [
        "stocks =(\n",
        "\t(\"AAPL\", 200),\n",
        "\t(\"AMZN\", 150),\n",
        "\t(\"GOOG\", 100)\n",
        ")\n",
        "for stock, close in stocks:\n",
        "\tprint(f\"{stock} close in {close} USD\")"
      ],
      "metadata": {
        "colab": {
          "base_uri": "https://localhost:8080/"
        },
        "id": "0CUgo8am_tSp",
        "outputId": "7b7c3ab5-258a-48aa-d1e0-49c618b3432b"
      },
      "execution_count": 41,
      "outputs": [
        {
          "output_type": "stream",
          "name": "stdout",
          "text": [
            "AAPL close in 200 USD\n",
            "AMZN close in 150 USD\n",
            "GOOG close in 100 USD\n"
          ]
        }
      ]
    },
    {
      "cell_type": "markdown",
      "source": [
        "## Looping Through Dictionaries\n"
      ],
      "metadata": {
        "id": "sIjJgOIz_xeB"
      }
    },
    {
      "cell_type": "code",
      "source": [
        "stock = {\n",
        "\t'company': 'apple',\n",
        "\t'stock': 'APPL',\n",
        "\t'day': '2025-02-01',\n",
        "\t'close': '200'\n",
        "}\n",
        "\n",
        "for key in stock:\n",
        "\tvalue = stock[key]\n",
        "\tprint(key, value)\n"
      ],
      "metadata": {
        "colab": {
          "base_uri": "https://localhost:8080/"
        },
        "id": "a6E6A5OC_yx8",
        "outputId": "88aa3a0c-1789-4d53-9678-0da2b5b5a6e7"
      },
      "execution_count": 42,
      "outputs": [
        {
          "output_type": "stream",
          "name": "stdout",
          "text": [
            "company apple\n",
            "stock APPL\n",
            "day 2025-02-01\n",
            "close 200\n"
          ]
        }
      ]
    },
    {
      "cell_type": "code",
      "source": [
        "stock.items()\n",
        "\n",
        "for key, value in stock.items():\n",
        "\tprint(f\"Key: {key} \\t\\t Value: {value}\")\n"
      ],
      "metadata": {
        "colab": {
          "base_uri": "https://localhost:8080/"
        },
        "id": "QkWjRILo_2Aa",
        "outputId": "57c65cc4-1eb9-41bf-e72f-69b70ea1934a"
      },
      "execution_count": 44,
      "outputs": [
        {
          "output_type": "stream",
          "name": "stdout",
          "text": [
            "Key: company \t\t Value: apple\n",
            "Key: stock \t\t Value: APPL\n",
            "Key: day \t\t Value: 2025-02-01\n",
            "Key: close \t\t Value: 200\n"
          ]
        }
      ]
    },
    {
      "cell_type": "markdown",
      "source": [
        "## While Loops\n"
      ],
      "metadata": {
        "id": "pTIMwARG_7wj"
      }
    },
    {
      "cell_type": "code",
      "source": [
        "stocks = [\"AAPL\", \"AMZN\", \"GOOG\"]\n",
        "\n",
        "for stock in stocks:\n",
        "  if stock ==\"AMZN\":\n",
        "    print(stock)"
      ],
      "metadata": {
        "colab": {
          "base_uri": "https://localhost:8080/"
        },
        "id": "TAW6CUc5_8Og",
        "outputId": "336f14d1-46aa-41b4-f9c2-ee2709c46098"
      },
      "execution_count": 53,
      "outputs": [
        {
          "output_type": "stream",
          "name": "stdout",
          "text": [
            "AMZN\n"
          ]
        }
      ]
    },
    {
      "cell_type": "markdown",
      "source": [
        "## Break & continue"
      ],
      "metadata": {
        "id": "JuPdUbB7AWL-"
      }
    },
    {
      "cell_type": "code",
      "source": [
        "stocks = [\"AAPL\", \"AMZN\", \"GOOG\"]\n",
        "\n",
        "for stock in stocks:\n",
        "\tif stock ==\"AMZN\":\n",
        "\t\tcontinue\n",
        "\tprint(stock)\n"
      ],
      "metadata": {
        "colab": {
          "base_uri": "https://localhost:8080/"
        },
        "id": "Lmdo_71dAYOv",
        "outputId": "e52b454d-ed65-4d43-b1fb-8fe25864e965"
      },
      "execution_count": 55,
      "outputs": [
        {
          "output_type": "stream",
          "name": "stdout",
          "text": [
            "AAPL\n",
            "GOOG\n"
          ]
        }
      ]
    },
    {
      "cell_type": "code",
      "source": [
        "while True:\n",
        "  stock = input(\"Your stock:\")\n",
        "  if stock == \"AAPL\":\n",
        "    print(\"Correct stock\")\n",
        "    break\n",
        "  print(\"wrong stock\")"
      ],
      "metadata": {
        "colab": {
          "base_uri": "https://localhost:8080/"
        },
        "id": "z2v1cAuNAepg",
        "outputId": "ceca1ce1-e917-46b6-833d-86281bbbe1fe"
      },
      "execution_count": 62,
      "outputs": [
        {
          "output_type": "stream",
          "name": "stdout",
          "text": [
            "Your stock:stock\n",
            "wrong stock\n",
            "Your stock:AAPL\n",
            "Correct stock\n"
          ]
        }
      ]
    },
    {
      "cell_type": "markdown",
      "source": [
        "## Type casting"
      ],
      "metadata": {
        "id": "p5KRvo1qBsKI"
      }
    },
    {
      "cell_type": "code",
      "source": [
        "200\n",
        "stock = \"200\"\n",
        "stock == 200"
      ],
      "metadata": {
        "colab": {
          "base_uri": "https://localhost:8080/"
        },
        "id": "ASIQLWw7Bu2b",
        "outputId": "952e4ca7-e7ba-470e-91cf-3517ff807324"
      },
      "execution_count": 63,
      "outputs": [
        {
          "output_type": "execute_result",
          "data": {
            "text/plain": [
              "False"
            ]
          },
          "metadata": {},
          "execution_count": 63
        }
      ]
    },
    {
      "cell_type": "code",
      "source": [
        "stock = int(stock)\n",
        "\n",
        "type(stock)"
      ],
      "metadata": {
        "colab": {
          "base_uri": "https://localhost:8080/"
        },
        "id": "JIKMG2SDBxxh",
        "outputId": "10bbd434-877b-46b4-9938-d3b4ab89aaef"
      },
      "execution_count": 64,
      "outputs": [
        {
          "output_type": "execute_result",
          "data": {
            "text/plain": [
              "int"
            ]
          },
          "metadata": {},
          "execution_count": 64
        }
      ]
    },
    {
      "cell_type": "code",
      "source": [
        "tup = (1,2,3,5)\n",
        "\n",
        "lst = list(tup)\n",
        "lst"
      ],
      "metadata": {
        "colab": {
          "base_uri": "https://localhost:8080/"
        },
        "id": "KSXPe_8eB1Ey",
        "outputId": "b42a0c38-c4a3-46e9-ad3b-df5c68fcf46d"
      },
      "execution_count": 68,
      "outputs": [
        {
          "output_type": "execute_result",
          "data": {
            "text/plain": [
              "[1, 2, 3, 5]"
            ]
          },
          "metadata": {},
          "execution_count": 68
        }
      ]
    },
    {
      "cell_type": "code",
      "source": [
        "lst[3]=4\n",
        "\n",
        "lst\n"
      ],
      "metadata": {
        "colab": {
          "base_uri": "https://localhost:8080/"
        },
        "id": "hDe3BQhgB-i9",
        "outputId": "30f54f3a-a404-447d-fc92-c56637ba0c7e"
      },
      "execution_count": 69,
      "outputs": [
        {
          "output_type": "execute_result",
          "data": {
            "text/plain": [
              "[1, 2, 3, 4]"
            ]
          },
          "metadata": {},
          "execution_count": 69
        }
      ]
    },
    {
      "cell_type": "markdown",
      "source": [
        "## Helpful Operators"
      ],
      "metadata": {
        "id": "veiaWXJoCBrq"
      }
    },
    {
      "cell_type": "code",
      "source": [
        "'Apple' in 'apple stocks'\n"
      ],
      "metadata": {
        "colab": {
          "base_uri": "https://localhost:8080/"
        },
        "id": "JO9cfWTVCCHy",
        "outputId": "e9d04587-a814-476d-86b0-5337583cb391"
      },
      "execution_count": 70,
      "outputs": [
        {
          "output_type": "execute_result",
          "data": {
            "text/plain": [
              "False"
            ]
          },
          "metadata": {},
          "execution_count": 70
        }
      ]
    },
    {
      "cell_type": "code",
      "source": [
        "if 'AAPL' in [\"AAPL\", \"AMZN\", \"GOOG\"]:\n",
        "\tprint('AAPL is in the stocks')\n"
      ],
      "metadata": {
        "colab": {
          "base_uri": "https://localhost:8080/"
        },
        "id": "Kilh9tAACFM5",
        "outputId": "68c8eb86-5d75-4618-9390-fa3299f3ba7e"
      },
      "execution_count": 71,
      "outputs": [
        {
          "output_type": "stream",
          "name": "stdout",
          "text": [
            "AAPL is in the stocks\n"
          ]
        }
      ]
    },
    {
      "cell_type": "code",
      "source": [
        "stocks = [\"AAPL\", \"AMZN\", \"GOOG\"]\n",
        "#enumerate\n",
        "for index, stock in enumerate(stocks):\n",
        "\tprint(index, stock)"
      ],
      "metadata": {
        "colab": {
          "base_uri": "https://localhost:8080/"
        },
        "id": "rsGxLP1qCIEd",
        "outputId": "10156394-f2b2-4f95-89c7-9252726fb345"
      },
      "execution_count": 73,
      "outputs": [
        {
          "output_type": "stream",
          "name": "stdout",
          "text": [
            "0 AAPL\n",
            "1 AMZN\n",
            "2 GOOG\n"
          ]
        }
      ]
    },
    {
      "cell_type": "code",
      "source": [
        "#zipping\n",
        "stocks =  [\"AAPL\", \"AMZN\", \"GOOG\"]\n",
        "values = [10,20,30]\n",
        "\n",
        "for stock, value in zip(stocks,values):\n",
        "\tprint(stock, \" -> \", value)"
      ],
      "metadata": {
        "colab": {
          "base_uri": "https://localhost:8080/"
        },
        "id": "Ku7v425YCN66",
        "outputId": "9e714704-046c-43fe-9bf5-00193ba9d717"
      },
      "execution_count": 75,
      "outputs": [
        {
          "output_type": "stream",
          "name": "stdout",
          "text": [
            "AAPL  ->  10\n",
            "AMZN  ->  20\n",
            "GOOG  ->  30\n"
          ]
        }
      ]
    },
    {
      "cell_type": "code",
      "source": [
        "min(values)\n"
      ],
      "metadata": {
        "colab": {
          "base_uri": "https://localhost:8080/"
        },
        "id": "68TgZd8wCRk3",
        "outputId": "1b1bd1c1-f9a9-4a83-9380-47464b0b1fea"
      },
      "execution_count": 77,
      "outputs": [
        {
          "output_type": "execute_result",
          "data": {
            "text/plain": [
              "10"
            ]
          },
          "metadata": {},
          "execution_count": 77
        }
      ]
    },
    {
      "cell_type": "code",
      "source": [
        "max(values)\n"
      ],
      "metadata": {
        "colab": {
          "base_uri": "https://localhost:8080/"
        },
        "id": "Z-D8BFIDCU4j",
        "outputId": "31052136-65e3-44cc-a002-bf32efb063ee"
      },
      "execution_count": 78,
      "outputs": [
        {
          "output_type": "execute_result",
          "data": {
            "text/plain": [
              "30"
            ]
          },
          "metadata": {},
          "execution_count": 78
        }
      ]
    },
    {
      "cell_type": "markdown",
      "source": [
        "## List Comprehensions\n"
      ],
      "metadata": {
        "id": "5esj8iFBFnss"
      }
    },
    {
      "cell_type": "code",
      "source": [
        "\n",
        "message = \"buy stocks aapl and amazon\"\n",
        "mylist=[]\n",
        "for letter in message:\n",
        "\tmylist.append(letter)\n",
        "print(mylist)\n"
      ],
      "metadata": {
        "colab": {
          "base_uri": "https://localhost:8080/"
        },
        "id": "9QmzEE6eFoOe",
        "outputId": "55bedfd0-1f37-44c1-c0f3-15faecc9b83f"
      },
      "execution_count": 5,
      "outputs": [
        {
          "output_type": "stream",
          "name": "stdout",
          "text": [
            "['b', 'u', 'y', ' ', 's', 't', 'o', 'c', 'k', 's', ' ', 'a', 'a', 'p', 'l', ' ', 'a', 'n', 'd', ' ', 'a', 'm', 'a', 'z', 'o', 'n']\n"
          ]
        }
      ]
    },
    {
      "cell_type": "code",
      "source": [
        "mylist2 = [letter for letter in message]\n",
        "mylist2"
      ],
      "metadata": {
        "colab": {
          "base_uri": "https://localhost:8080/"
        },
        "id": "ByvOM2N4Ft1O",
        "outputId": "040e36fd-f9ad-47e0-8f53-2dc1c3f9b695"
      },
      "execution_count": 6,
      "outputs": [
        {
          "output_type": "execute_result",
          "data": {
            "text/plain": [
              "['b',\n",
              " 'u',\n",
              " 'y',\n",
              " ' ',\n",
              " 's',\n",
              " 't',\n",
              " 'o',\n",
              " 'c',\n",
              " 'k',\n",
              " 's',\n",
              " ' ',\n",
              " 'a',\n",
              " 'a',\n",
              " 'p',\n",
              " 'l',\n",
              " ' ',\n",
              " 'a',\n",
              " 'n',\n",
              " 'd',\n",
              " ' ',\n",
              " 'a',\n",
              " 'm',\n",
              " 'a',\n",
              " 'z',\n",
              " 'o',\n",
              " 'n']"
            ]
          },
          "metadata": {},
          "execution_count": 6
        }
      ]
    },
    {
      "cell_type": "code",
      "source": [
        "vowels = [letter for letter in message if letter.lower() in 'abc']\n",
        "vowels"
      ],
      "metadata": {
        "colab": {
          "base_uri": "https://localhost:8080/"
        },
        "id": "UxJc4bHeFy_W",
        "outputId": "2484413f-73ea-42ad-e3e9-3dde5e078bcf"
      },
      "execution_count": 7,
      "outputs": [
        {
          "output_type": "execute_result",
          "data": {
            "text/plain": [
              "['b', 'c', 'a', 'a', 'a', 'a', 'a']"
            ]
          },
          "metadata": {},
          "execution_count": 7
        }
      ]
    },
    {
      "cell_type": "code",
      "source": [
        "numbers = [num*2 for num in range(0,9)]\n",
        "numbers"
      ],
      "metadata": {
        "colab": {
          "base_uri": "https://localhost:8080/"
        },
        "id": "X2GIfLXPF2bO",
        "outputId": "5838584b-1157-4d42-c463-e9b4f3f3c5bd"
      },
      "execution_count": 8,
      "outputs": [
        {
          "output_type": "execute_result",
          "data": {
            "text/plain": [
              "[0, 2, 4, 6, 8, 10, 12, 14, 16]"
            ]
          },
          "metadata": {},
          "execution_count": 8
        }
      ]
    },
    {
      "cell_type": "code",
      "source": [
        "values = [10,20,30]\n",
        "f=[]\n",
        "for value in values:\n",
        "\tvalue = (value*2) + 1\n",
        "\tf.append(value)\n",
        "print(f)"
      ],
      "metadata": {
        "colab": {
          "base_uri": "https://localhost:8080/"
        },
        "id": "4RaCvW9MF5Jf",
        "outputId": "0a16c784-ab0a-4a81-b8ad-30192bfa34a6"
      },
      "execution_count": 10,
      "outputs": [
        {
          "output_type": "stream",
          "name": "stdout",
          "text": [
            "[21, 41, 61]\n"
          ]
        }
      ]
    },
    {
      "cell_type": "code",
      "source": [
        "values = [10,20,30]\n",
        "f = [(value*2)+1 for value in values]\n",
        "print(f)"
      ],
      "metadata": {
        "colab": {
          "base_uri": "https://localhost:8080/"
        },
        "id": "m5UUf16AF92Q",
        "outputId": "b7c9934e-bbce-4561-b70e-0750103f9bf1"
      },
      "execution_count": 11,
      "outputs": [
        {
          "output_type": "stream",
          "name": "stdout",
          "text": [
            "[21, 41, 61]\n"
          ]
        }
      ]
    },
    {
      "cell_type": "markdown",
      "source": [
        "## Dictionary Comprehensions"
      ],
      "metadata": {
        "id": "em242_3bQj0R"
      }
    },
    {
      "cell_type": "code",
      "source": [
        "keys =['AAPL','AMZ','GOOG']\n",
        "values = [10,14,154]\n",
        "stocks = {}\n",
        "for key, value in zip(keys, values):\n",
        "\tstocks[key] = value\n",
        "\n",
        "stocks"
      ],
      "metadata": {
        "colab": {
          "base_uri": "https://localhost:8080/"
        },
        "id": "YCrdu4H4FVfQ",
        "outputId": "3ead61d3-e39c-4470-d6b3-d0bb900a65f5"
      },
      "execution_count": 1,
      "outputs": [
        {
          "output_type": "execute_result",
          "data": {
            "text/plain": [
              "{'AAPL': 10, 'AMZ': 14, 'GOOG': 154}"
            ]
          },
          "metadata": {},
          "execution_count": 1
        }
      ]
    },
    {
      "cell_type": "code",
      "source": [
        "stocks2 = {key:value for key, value in zip (keys,values)}\n",
        "stocks2\n"
      ],
      "metadata": {
        "colab": {
          "base_uri": "https://localhost:8080/"
        },
        "id": "1SmA7yuiFfkg",
        "outputId": "f3b2e2c7-9f0f-426d-d3d4-09958ca8b28f"
      },
      "execution_count": 2,
      "outputs": [
        {
          "output_type": "execute_result",
          "data": {
            "text/plain": [
              "{'AAPL': 10, 'AMZ': 14, 'GOOG': 154}"
            ]
          },
          "metadata": {},
          "execution_count": 2
        }
      ]
    },
    {
      "cell_type": "code",
      "source": [
        "\n",
        "stocks3 =  {key:value for key, value in zip (keys,values) if key != 'AAPL'}\n",
        "stocks3"
      ],
      "metadata": {
        "colab": {
          "base_uri": "https://localhost:8080/"
        },
        "id": "wPGWUl3SFg0f",
        "outputId": "d85df7a3-ed97-4a09-f1f4-ea6b786bd67e"
      },
      "execution_count": 4,
      "outputs": [
        {
          "output_type": "execute_result",
          "data": {
            "text/plain": [
              "{'AMZ': 14, 'GOOG': 154}"
            ]
          },
          "metadata": {},
          "execution_count": 4
        }
      ]
    },
    {
      "cell_type": "markdown",
      "source": [
        "## Functions"
      ],
      "metadata": {
        "id": "dpIeJRGNF_k5"
      }
    },
    {
      "cell_type": "code",
      "source": [
        "def function_name():\n",
        "    print('Stocks Apple')\n",
        "function_name()"
      ],
      "metadata": {
        "colab": {
          "base_uri": "https://localhost:8080/"
        },
        "id": "JG86FfL9GEjj",
        "outputId": "a85cc2e5-e33a-4f96-8a0c-0f0c92870b39"
      },
      "execution_count": 13,
      "outputs": [
        {
          "output_type": "stream",
          "name": "stdout",
          "text": [
            "Stocks Apple\n"
          ]
        }
      ]
    },
    {
      "cell_type": "code",
      "source": [
        "def add_numbers(number):\n",
        "  result = number + 10\n",
        "  return result\n",
        "add_numbers(100)"
      ],
      "metadata": {
        "colab": {
          "base_uri": "https://localhost:8080/"
        },
        "id": "ns5hjmoMGjcw",
        "outputId": "7a8d98f7-b979-4804-a5fb-4af4c308312e"
      },
      "execution_count": 14,
      "outputs": [
        {
          "output_type": "execute_result",
          "data": {
            "text/plain": [
              "110"
            ]
          },
          "metadata": {},
          "execution_count": 14
        }
      ]
    },
    {
      "cell_type": "code",
      "source": [
        "def add_two_numbers(number1, number2):\n",
        "  result = number1 + number2\n",
        "  return result\n",
        "add_two_numbers(20, 30)"
      ],
      "metadata": {
        "colab": {
          "base_uri": "https://localhost:8080/"
        },
        "id": "zeRzXWQvG04G",
        "outputId": "7cc43eb7-5a43-4e19-b666-a9b702027082"
      },
      "execution_count": 16,
      "outputs": [
        {
          "output_type": "execute_result",
          "data": {
            "text/plain": [
              "50"
            ]
          },
          "metadata": {},
          "execution_count": 16
        }
      ]
    },
    {
      "cell_type": "code",
      "source": [
        "total = add_two_numbers(20, 30)\n",
        "total"
      ],
      "metadata": {
        "colab": {
          "base_uri": "https://localhost:8080/"
        },
        "id": "tlQj-s15HAjD",
        "outputId": "5cd7e966-d35c-40ea-8516-3dab3af02daf"
      },
      "execution_count": 17,
      "outputs": [
        {
          "output_type": "execute_result",
          "data": {
            "text/plain": [
              "50"
            ]
          },
          "metadata": {},
          "execution_count": 17
        }
      ]
    },
    {
      "cell_type": "code",
      "source": [
        "def string_concate(string):\n",
        "  return \"Sotck: \" + string\n",
        "string_concate('AAPL')"
      ],
      "metadata": {
        "colab": {
          "base_uri": "https://localhost:8080/",
          "height": 36
        },
        "id": "cqi0J-GyHF81",
        "outputId": "5fc5f334-09af-4453-cc18-93a1c960dd92"
      },
      "execution_count": 19,
      "outputs": [
        {
          "output_type": "execute_result",
          "data": {
            "text/plain": [
              "'Sotck: AAPL'"
            ],
            "application/vnd.google.colaboratory.intrinsic+json": {
              "type": "string"
            }
          },
          "metadata": {},
          "execution_count": 19
        }
      ]
    },
    {
      "cell_type": "code",
      "source": [
        "def validate_stock(value):\n",
        "  if value > 100:\n",
        "    return True\n",
        "  else:\n",
        "    return False\n",
        "validate_stock(100)"
      ],
      "metadata": {
        "colab": {
          "base_uri": "https://localhost:8080/"
        },
        "id": "L3VIk7WaH_Js",
        "outputId": "ee2a05f3-6c1a-439a-a66f-797bdb566b8e"
      },
      "execution_count": 21,
      "outputs": [
        {
          "output_type": "execute_result",
          "data": {
            "text/plain": [
              "False"
            ]
          },
          "metadata": {},
          "execution_count": 21
        }
      ]
    },
    {
      "cell_type": "markdown",
      "source": [
        "## Args And Kwargs"
      ],
      "metadata": {
        "id": "UwYCZhHzCYG5"
      }
    },
    {
      "cell_type": "code",
      "source": [
        "# args = arguments\n",
        "# kwargs = keyword arguments"
      ],
      "metadata": {
        "id": "fo-clw-sIPQn"
      },
      "execution_count": null,
      "outputs": []
    },
    {
      "cell_type": "code",
      "source": [
        "def func_name(name, *args, **kwargs):\n",
        "  print(name)\n",
        "  print(args)\n",
        "  print(kwargs)\n",
        "\n",
        "func_name(stock,'AAPL', 'AWS', 'GOOGL',)"
      ],
      "metadata": {
        "colab": {
          "base_uri": "https://localhost:8080/"
        },
        "id": "SGCgxMQ3DmuZ",
        "outputId": "91b3a2b0-d721-4e3b-c1de-e1c5b90cc41e"
      },
      "execution_count": 82,
      "outputs": [
        {
          "output_type": "stream",
          "name": "stdout",
          "text": [
            "GOOG\n",
            "('AAPL', 'AWS', 'GOOGL')\n",
            "{}\n"
          ]
        }
      ]
    },
    {
      "cell_type": "code",
      "source": [
        "def func_name(*args):\n",
        "  for arg in args:\n",
        "    print(arg)\n",
        "func_name('AAPL', 'AWS', 'GOOGL',)"
      ],
      "metadata": {
        "colab": {
          "base_uri": "https://localhost:8080/"
        },
        "id": "7_7d6v-oEEZ8",
        "outputId": "054bd523-5b41-47d2-d776-c60a7ed4349a"
      },
      "execution_count": 83,
      "outputs": [
        {
          "output_type": "stream",
          "name": "stdout",
          "text": [
            "AAPL\n",
            "AWS\n",
            "GOOGL\n"
          ]
        }
      ]
    },
    {
      "cell_type": "code",
      "source": [
        "def func_name(**kwargs):\n",
        "  print(kwargs)\n",
        "\n",
        "func_name(stock='AAPL', value=300, close='down')"
      ],
      "metadata": {
        "colab": {
          "base_uri": "https://localhost:8080/"
        },
        "id": "U4-oC2U6ENZK",
        "outputId": "aa5a04dd-b647-4497-a456-0fd06492a243"
      },
      "execution_count": 85,
      "outputs": [
        {
          "output_type": "stream",
          "name": "stdout",
          "text": [
            "{'stock': 'AAPL', 'value': 300, 'close': 'down'}\n"
          ]
        }
      ]
    },
    {
      "cell_type": "code",
      "source": [
        "def func_name(**kwargs):\n",
        "  for key, value in kwargs.items():\n",
        "    print(key, value)\n",
        "\n",
        "func_name(stock='AAPL', value=300, close='down')"
      ],
      "metadata": {
        "colab": {
          "base_uri": "https://localhost:8080/"
        },
        "id": "2r6Boyu4Esv9",
        "outputId": "91ebd832-1d76-4ee6-a7d9-085544b0ed24"
      },
      "execution_count": 86,
      "outputs": [
        {
          "output_type": "stream",
          "name": "stdout",
          "text": [
            "stock AAPL\n",
            "value 300\n",
            "close down\n"
          ]
        }
      ]
    },
    {
      "cell_type": "code",
      "source": [
        "def stocks(name, *args, **kwargs):\n",
        "  print(name)\n",
        "  for arg in args:\n",
        "    print(arg)\n",
        "\n",
        "  if kwargs.get(\"close\"):\n",
        "    operation = kwargs.get(\"close\")\n",
        "    print(operation)\n",
        "\n",
        "stocks('portfolio', 'basic','risk', stock='AAPL', value=300, close='down')"
      ],
      "metadata": {
        "colab": {
          "base_uri": "https://localhost:8080/"
        },
        "id": "SbuvtA0UEw90",
        "outputId": "7cdaa8db-e2c1-47c9-ef4b-3948bf15cacc"
      },
      "execution_count": 104,
      "outputs": [
        {
          "output_type": "stream",
          "name": "stdout",
          "text": [
            "portfolio\n",
            "basic\n",
            "risk\n",
            "down\n"
          ]
        }
      ]
    },
    {
      "cell_type": "markdown",
      "source": [
        "## Comments"
      ],
      "metadata": {
        "id": "LKORgHkgHKVz"
      }
    },
    {
      "cell_type": "code",
      "source": [
        "#this example of comment\n",
        "stock = \"APPL\" # comment about variable"
      ],
      "metadata": {
        "id": "t8J3eWygHLwK"
      },
      "execution_count": 105,
      "outputs": []
    },
    {
      "cell_type": "code",
      "source": [
        "#function find best stock\n",
        "def stock_find(stocks):\n",
        "  print(\"stocks\")"
      ],
      "metadata": {
        "id": "scULa32ZLETC"
      },
      "execution_count": 106,
      "outputs": []
    },
    {
      "cell_type": "markdown",
      "source": [
        "## Map"
      ],
      "metadata": {
        "id": "htOILz9pMXDJ"
      }
    },
    {
      "cell_type": "code",
      "source": [
        "nums = [1,2,3,4,5]\n",
        "nums"
      ],
      "metadata": {
        "colab": {
          "base_uri": "https://localhost:8080/"
        },
        "id": "TiEa3whLLQo1",
        "outputId": "4463fe72-a4c7-4003-e904-73d16e9ed501"
      },
      "execution_count": 2,
      "outputs": [
        {
          "output_type": "execute_result",
          "data": {
            "text/plain": [
              "[1, 2, 3, 4, 5]"
            ]
          },
          "metadata": {},
          "execution_count": 2
        }
      ]
    },
    {
      "cell_type": "code",
      "source": [
        "def new_value(num):\n",
        "  return num * 10\n",
        "\n",
        "new_value(10)"
      ],
      "metadata": {
        "colab": {
          "base_uri": "https://localhost:8080/"
        },
        "id": "XT2AH1BjiKXe",
        "outputId": "e8c05ce6-390b-4549-dced-923cd6ed6ed0"
      },
      "execution_count": 3,
      "outputs": [
        {
          "output_type": "execute_result",
          "data": {
            "text/plain": [
              "100"
            ]
          },
          "metadata": {},
          "execution_count": 3
        }
      ]
    },
    {
      "cell_type": "code",
      "source": [
        "for new_num in map(new_value, nums):\n",
        "  print(new_num)"
      ],
      "metadata": {
        "colab": {
          "base_uri": "https://localhost:8080/"
        },
        "id": "Gl76Q991iTYF",
        "outputId": "fceb2816-1fa3-4efc-d066-c1342300e56f"
      },
      "execution_count": 5,
      "outputs": [
        {
          "output_type": "stream",
          "name": "stdout",
          "text": [
            "10\n",
            "20\n",
            "30\n",
            "40\n",
            "50\n"
          ]
        }
      ]
    },
    {
      "cell_type": "code",
      "source": [
        "new_nums = list(map(new_value, nums))\n",
        "new_nums"
      ],
      "metadata": {
        "colab": {
          "base_uri": "https://localhost:8080/"
        },
        "id": "9SDI6joNiYYk",
        "outputId": "79643da0-2fdb-4af9-9505-29ae21e7ef4f"
      },
      "execution_count": 6,
      "outputs": [
        {
          "output_type": "execute_result",
          "data": {
            "text/plain": [
              "[10, 20, 30, 40, 50]"
            ]
          },
          "metadata": {},
          "execution_count": 6
        }
      ]
    },
    {
      "cell_type": "markdown",
      "source": [
        "## Filter"
      ],
      "metadata": {
        "id": "QTET45yxkCGV"
      }
    },
    {
      "cell_type": "code",
      "source": [
        "def filter_values(num):\n",
        "  return num % 2 == 0\n",
        "\n",
        "filter_values(4)"
      ],
      "metadata": {
        "colab": {
          "base_uri": "https://localhost:8080/"
        },
        "id": "plu478pukDlk",
        "outputId": "5a1f7705-0d38-4ef2-939e-f8f1ee3a2789"
      },
      "execution_count": 12,
      "outputs": [
        {
          "output_type": "execute_result",
          "data": {
            "text/plain": [
              "True"
            ]
          },
          "metadata": {},
          "execution_count": 12
        }
      ]
    },
    {
      "cell_type": "code",
      "source": [
        "nums = [1,2,3,4,5,6,7,8,9,10]\n",
        "for new_num in filter(filter_values, nums):\n",
        "  print(new_num)"
      ],
      "metadata": {
        "colab": {
          "base_uri": "https://localhost:8080/"
        },
        "id": "JUe2Gh4wlCON",
        "outputId": "62b62fc2-4bd0-4436-e037-debc3db9a865"
      },
      "execution_count": 13,
      "outputs": [
        {
          "output_type": "stream",
          "name": "stdout",
          "text": [
            "2\n",
            "4\n",
            "6\n",
            "8\n",
            "10\n"
          ]
        }
      ]
    },
    {
      "cell_type": "code",
      "source": [
        "new_nums = list(filter(filter_values, nums))\n",
        "new_nums"
      ],
      "metadata": {
        "colab": {
          "base_uri": "https://localhost:8080/"
        },
        "id": "2AZwiNaulKkL",
        "outputId": "10784736-8f4e-460b-d3ac-66750d24e109"
      },
      "execution_count": 14,
      "outputs": [
        {
          "output_type": "execute_result",
          "data": {
            "text/plain": [
              "[2, 4, 6, 8, 10]"
            ]
          },
          "metadata": {},
          "execution_count": 14
        }
      ]
    },
    {
      "cell_type": "markdown",
      "source": [
        "## Lambda Expressions"
      ],
      "metadata": {
        "id": "eDYioHKDlgSK"
      }
    },
    {
      "cell_type": "code",
      "source": [
        "def new_value(num):\n",
        "  return num * 10\n",
        "\n",
        "new_value(10)"
      ],
      "metadata": {
        "colab": {
          "base_uri": "https://localhost:8080/"
        },
        "id": "Z3anxJ9cljip",
        "outputId": "4833da78-81d5-4c71-cc61-3de313dba6e7"
      },
      "execution_count": 15,
      "outputs": [
        {
          "output_type": "execute_result",
          "data": {
            "text/plain": [
              "100"
            ]
          },
          "metadata": {},
          "execution_count": 15
        }
      ]
    },
    {
      "cell_type": "code",
      "source": [
        "new_num = lambda num: num * 10\n",
        "new_num(10)"
      ],
      "metadata": {
        "colab": {
          "base_uri": "https://localhost:8080/"
        },
        "id": "-jbhFlHdl3Cr",
        "outputId": "bae69db8-88fc-4366-f52f-4cdbbc6968a3"
      },
      "execution_count": 16,
      "outputs": [
        {
          "output_type": "execute_result",
          "data": {
            "text/plain": [
              "100"
            ]
          },
          "metadata": {},
          "execution_count": 16
        }
      ]
    },
    {
      "cell_type": "code",
      "source": [
        "new_num(5)"
      ],
      "metadata": {
        "colab": {
          "base_uri": "https://localhost:8080/"
        },
        "id": "YNhYYE9nl_gh",
        "outputId": "05e173ae-506b-4cdf-f320-c83324352782"
      },
      "execution_count": 17,
      "outputs": [
        {
          "output_type": "execute_result",
          "data": {
            "text/plain": [
              "50"
            ]
          },
          "metadata": {},
          "execution_count": 17
        }
      ]
    },
    {
      "cell_type": "markdown",
      "source": [
        "## Scope"
      ],
      "metadata": {
        "id": "-BVTOvrRmdQm"
      }
    },
    {
      "cell_type": "code",
      "source": [
        "# scope 1\n",
        "stock = 'AAPL'\n",
        "\n",
        "def change_stock():\n",
        "  # scope 2, don't change stock initial, is other scope\n",
        "  stock='AMZ'\n",
        "  return stock\n",
        "\n",
        "print(change_stock())\n",
        "print(stock)"
      ],
      "metadata": {
        "colab": {
          "base_uri": "https://localhost:8080/"
        },
        "id": "nE8LKm87mDN8",
        "outputId": "5d981321-fdd3-4c64-db23-ace93e547c6a"
      },
      "execution_count": 21,
      "outputs": [
        {
          "output_type": "stream",
          "name": "stdout",
          "text": [
            "AMZ\n",
            "AAPL\n"
          ]
        }
      ]
    },
    {
      "cell_type": "markdown",
      "source": [
        "# Notes"
      ],
      "metadata": {
        "id": "KltS-bWrFQvf"
      }
    },
    {
      "cell_type": "markdown",
      "source": [
        "- Write your notes"
      ],
      "metadata": {
        "id": "Jiw4uU_UFRni"
      }
    }
  ]
}